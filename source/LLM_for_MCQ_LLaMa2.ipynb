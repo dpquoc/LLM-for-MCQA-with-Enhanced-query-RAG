{
  "cells": [
    {
      "cell_type": "markdown",
      "metadata": {
        "id": "nA0SpXpw2-B7"
      },
      "source": [
        "# Import Libraries"
      ]
    },
    {
      "cell_type": "code",
      "execution_count": 3,
      "metadata": {
        "colab": {
          "base_uri": "https://localhost:8080/"
        },
        "id": "hhfdryTrdHNC",
        "scrolled": true,
        "outputId": "621f48f6-5568-4622-966f-1a66eb9460ca"
      },
      "outputs": [
        {
          "output_type": "stream",
          "name": "stdout",
          "text": [
            "Requirement already satisfied: transformers in /usr/local/lib/python3.10/dist-packages (4.41.1)\n",
            "Requirement already satisfied: filelock in /usr/local/lib/python3.10/dist-packages (from transformers) (3.14.0)\n",
            "Requirement already satisfied: huggingface-hub<1.0,>=0.23.0 in /usr/local/lib/python3.10/dist-packages (from transformers) (0.23.2)\n",
            "Requirement already satisfied: numpy>=1.17 in /usr/local/lib/python3.10/dist-packages (from transformers) (1.25.2)\n",
            "Requirement already satisfied: packaging>=20.0 in /usr/local/lib/python3.10/dist-packages (from transformers) (24.0)\n",
            "Requirement already satisfied: pyyaml>=5.1 in /usr/local/lib/python3.10/dist-packages (from transformers) (6.0.1)\n",
            "Requirement already satisfied: regex!=2019.12.17 in /usr/local/lib/python3.10/dist-packages (from transformers) (2024.5.15)\n",
            "Requirement already satisfied: requests in /usr/local/lib/python3.10/dist-packages (from transformers) (2.31.0)\n",
            "Requirement already satisfied: tokenizers<0.20,>=0.19 in /usr/local/lib/python3.10/dist-packages (from transformers) (0.19.1)\n",
            "Requirement already satisfied: safetensors>=0.4.1 in /usr/local/lib/python3.10/dist-packages (from transformers) (0.4.3)\n",
            "Requirement already satisfied: tqdm>=4.27 in /usr/local/lib/python3.10/dist-packages (from transformers) (4.66.4)\n",
            "Requirement already satisfied: fsspec>=2023.5.0 in /usr/local/lib/python3.10/dist-packages (from huggingface-hub<1.0,>=0.23.0->transformers) (2023.6.0)\n",
            "Requirement already satisfied: typing-extensions>=3.7.4.3 in /usr/local/lib/python3.10/dist-packages (from huggingface-hub<1.0,>=0.23.0->transformers) (4.12.0)\n",
            "Requirement already satisfied: charset-normalizer<4,>=2 in /usr/local/lib/python3.10/dist-packages (from requests->transformers) (3.3.2)\n",
            "Requirement already satisfied: idna<4,>=2.5 in /usr/local/lib/python3.10/dist-packages (from requests->transformers) (3.7)\n",
            "Requirement already satisfied: urllib3<3,>=1.21.1 in /usr/local/lib/python3.10/dist-packages (from requests->transformers) (2.0.7)\n",
            "Requirement already satisfied: certifi>=2017.4.17 in /usr/local/lib/python3.10/dist-packages (from requests->transformers) (2024.2.2)\n",
            "Collecting accelerate\n",
            "  Downloading accelerate-0.30.1-py3-none-any.whl (302 kB)\n",
            "\u001b[2K     \u001b[90m━━━━━━━━━━━━━━━━━━━━━━━━━━━━━━━━━━━━━━━━\u001b[0m \u001b[32m302.6/302.6 kB\u001b[0m \u001b[31m6.9 MB/s\u001b[0m eta \u001b[36m0:00:00\u001b[0m\n",
            "\u001b[?25hRequirement already satisfied: numpy>=1.17 in /usr/local/lib/python3.10/dist-packages (from accelerate) (1.25.2)\n",
            "Requirement already satisfied: packaging>=20.0 in /usr/local/lib/python3.10/dist-packages (from accelerate) (24.0)\n",
            "Requirement already satisfied: psutil in /usr/local/lib/python3.10/dist-packages (from accelerate) (5.9.5)\n",
            "Requirement already satisfied: pyyaml in /usr/local/lib/python3.10/dist-packages (from accelerate) (6.0.1)\n",
            "Requirement already satisfied: torch>=1.10.0 in /usr/local/lib/python3.10/dist-packages (from accelerate) (2.3.0+cu121)\n",
            "Requirement already satisfied: huggingface-hub in /usr/local/lib/python3.10/dist-packages (from accelerate) (0.23.2)\n",
            "Requirement already satisfied: safetensors>=0.3.1 in /usr/local/lib/python3.10/dist-packages (from accelerate) (0.4.3)\n",
            "Requirement already satisfied: filelock in /usr/local/lib/python3.10/dist-packages (from torch>=1.10.0->accelerate) (3.14.0)\n",
            "Requirement already satisfied: typing-extensions>=4.8.0 in /usr/local/lib/python3.10/dist-packages (from torch>=1.10.0->accelerate) (4.12.0)\n",
            "Requirement already satisfied: sympy in /usr/local/lib/python3.10/dist-packages (from torch>=1.10.0->accelerate) (1.12.1)\n",
            "Requirement already satisfied: networkx in /usr/local/lib/python3.10/dist-packages (from torch>=1.10.0->accelerate) (3.3)\n",
            "Requirement already satisfied: jinja2 in /usr/local/lib/python3.10/dist-packages (from torch>=1.10.0->accelerate) (3.1.4)\n",
            "Requirement already satisfied: fsspec in /usr/local/lib/python3.10/dist-packages (from torch>=1.10.0->accelerate) (2023.6.0)\n",
            "Collecting nvidia-cuda-nvrtc-cu12==12.1.105 (from torch>=1.10.0->accelerate)\n",
            "  Using cached nvidia_cuda_nvrtc_cu12-12.1.105-py3-none-manylinux1_x86_64.whl (23.7 MB)\n",
            "Collecting nvidia-cuda-runtime-cu12==12.1.105 (from torch>=1.10.0->accelerate)\n",
            "  Using cached nvidia_cuda_runtime_cu12-12.1.105-py3-none-manylinux1_x86_64.whl (823 kB)\n",
            "Collecting nvidia-cuda-cupti-cu12==12.1.105 (from torch>=1.10.0->accelerate)\n",
            "  Using cached nvidia_cuda_cupti_cu12-12.1.105-py3-none-manylinux1_x86_64.whl (14.1 MB)\n",
            "Collecting nvidia-cudnn-cu12==8.9.2.26 (from torch>=1.10.0->accelerate)\n",
            "  Using cached nvidia_cudnn_cu12-8.9.2.26-py3-none-manylinux1_x86_64.whl (731.7 MB)\n",
            "Collecting nvidia-cublas-cu12==12.1.3.1 (from torch>=1.10.0->accelerate)\n",
            "  Using cached nvidia_cublas_cu12-12.1.3.1-py3-none-manylinux1_x86_64.whl (410.6 MB)\n",
            "Collecting nvidia-cufft-cu12==11.0.2.54 (from torch>=1.10.0->accelerate)\n",
            "  Using cached nvidia_cufft_cu12-11.0.2.54-py3-none-manylinux1_x86_64.whl (121.6 MB)\n",
            "Collecting nvidia-curand-cu12==10.3.2.106 (from torch>=1.10.0->accelerate)\n",
            "  Using cached nvidia_curand_cu12-10.3.2.106-py3-none-manylinux1_x86_64.whl (56.5 MB)\n",
            "Collecting nvidia-cusolver-cu12==11.4.5.107 (from torch>=1.10.0->accelerate)\n",
            "  Using cached nvidia_cusolver_cu12-11.4.5.107-py3-none-manylinux1_x86_64.whl (124.2 MB)\n",
            "Collecting nvidia-cusparse-cu12==12.1.0.106 (from torch>=1.10.0->accelerate)\n",
            "  Using cached nvidia_cusparse_cu12-12.1.0.106-py3-none-manylinux1_x86_64.whl (196.0 MB)\n",
            "Collecting nvidia-nccl-cu12==2.20.5 (from torch>=1.10.0->accelerate)\n",
            "  Using cached nvidia_nccl_cu12-2.20.5-py3-none-manylinux2014_x86_64.whl (176.2 MB)\n",
            "Collecting nvidia-nvtx-cu12==12.1.105 (from torch>=1.10.0->accelerate)\n",
            "  Using cached nvidia_nvtx_cu12-12.1.105-py3-none-manylinux1_x86_64.whl (99 kB)\n",
            "Requirement already satisfied: triton==2.3.0 in /usr/local/lib/python3.10/dist-packages (from torch>=1.10.0->accelerate) (2.3.0)\n",
            "Collecting nvidia-nvjitlink-cu12 (from nvidia-cusolver-cu12==11.4.5.107->torch>=1.10.0->accelerate)\n",
            "  Downloading nvidia_nvjitlink_cu12-12.5.40-py3-none-manylinux2014_x86_64.whl (21.3 MB)\n",
            "\u001b[2K     \u001b[90m━━━━━━━━━━━━━━━━━━━━━━━━━━━━━━━━━━━━━━━━\u001b[0m \u001b[32m21.3/21.3 MB\u001b[0m \u001b[31m42.2 MB/s\u001b[0m eta \u001b[36m0:00:00\u001b[0m\n",
            "\u001b[?25hRequirement already satisfied: requests in /usr/local/lib/python3.10/dist-packages (from huggingface-hub->accelerate) (2.31.0)\n",
            "Requirement already satisfied: tqdm>=4.42.1 in /usr/local/lib/python3.10/dist-packages (from huggingface-hub->accelerate) (4.66.4)\n",
            "Requirement already satisfied: MarkupSafe>=2.0 in /usr/local/lib/python3.10/dist-packages (from jinja2->torch>=1.10.0->accelerate) (2.1.5)\n",
            "Requirement already satisfied: charset-normalizer<4,>=2 in /usr/local/lib/python3.10/dist-packages (from requests->huggingface-hub->accelerate) (3.3.2)\n",
            "Requirement already satisfied: idna<4,>=2.5 in /usr/local/lib/python3.10/dist-packages (from requests->huggingface-hub->accelerate) (3.7)\n",
            "Requirement already satisfied: urllib3<3,>=1.21.1 in /usr/local/lib/python3.10/dist-packages (from requests->huggingface-hub->accelerate) (2.0.7)\n",
            "Requirement already satisfied: certifi>=2017.4.17 in /usr/local/lib/python3.10/dist-packages (from requests->huggingface-hub->accelerate) (2024.2.2)\n",
            "Requirement already satisfied: mpmath<1.4.0,>=1.1.0 in /usr/local/lib/python3.10/dist-packages (from sympy->torch>=1.10.0->accelerate) (1.3.0)\n",
            "Installing collected packages: nvidia-nvtx-cu12, nvidia-nvjitlink-cu12, nvidia-nccl-cu12, nvidia-curand-cu12, nvidia-cufft-cu12, nvidia-cuda-runtime-cu12, nvidia-cuda-nvrtc-cu12, nvidia-cuda-cupti-cu12, nvidia-cublas-cu12, nvidia-cusparse-cu12, nvidia-cudnn-cu12, nvidia-cusolver-cu12, accelerate\n",
            "Successfully installed accelerate-0.30.1 nvidia-cublas-cu12-12.1.3.1 nvidia-cuda-cupti-cu12-12.1.105 nvidia-cuda-nvrtc-cu12-12.1.105 nvidia-cuda-runtime-cu12-12.1.105 nvidia-cudnn-cu12-8.9.2.26 nvidia-cufft-cu12-11.0.2.54 nvidia-curand-cu12-10.3.2.106 nvidia-cusolver-cu12-11.4.5.107 nvidia-cusparse-cu12-12.1.0.106 nvidia-nccl-cu12-2.20.5 nvidia-nvjitlink-cu12-12.5.40 nvidia-nvtx-cu12-12.1.105\n"
          ]
        }
      ],
      "source": [
        "!pip install transformers\n",
        "!pip install accelerate"
      ]
    },
    {
      "cell_type": "code",
      "execution_count": 4,
      "metadata": {
        "id": "QIWh9NpadHND"
      },
      "outputs": [],
      "source": [
        "import sys\n",
        "import gc\n",
        "import os\n",
        "import subprocess\n",
        "import numpy as np\n",
        "import pandas as pd\n",
        "from tqdm import tqdm\n",
        "from functools import partial\n",
        "from scipy.special import softmax\n",
        "import torch\n",
        "from torch import nn\n",
        "import torch.nn.functional as F\n",
        "\n",
        "from transformers import LlamaTokenizer,  AutoTokenizer, AutoModelForCausalLM\n",
        "import pickle\n",
        "\n",
        "import logging\n",
        "logging.getLogger(\"transformers\").setLevel(logging.ERROR)"
      ]
    },
    {
      "cell_type": "markdown",
      "metadata": {
        "id": "32HYY8UW-arQ"
      },
      "source": [
        "# Download Resources"
      ]
    },
    {
      "cell_type": "code",
      "execution_count": 5,
      "metadata": {
        "colab": {
          "base_uri": "https://localhost:8080/"
        },
        "id": "WrE6jjg6_aWQ",
        "outputId": "ccbcf10d-d43e-49e6-ecf6-fcd8c0ba7d59"
      },
      "outputs": [
        {
          "output_type": "stream",
          "name": "stdout",
          "text": [
            "All downloads initiated.\n",
            "All downloads initiated.\n"
          ]
        }
      ],
      "source": [
        "os.makedirs('ARC', exist_ok=True)\n",
        "os.chdir('ARC')\n",
        "\n",
        "os.makedirs('ARC-Challenge', exist_ok=True)\n",
        "os.chdir('ARC-Challenge')\n",
        "\n",
        "file_names = [\n",
        "    'test.csv',\n",
        "    'train.csv',\n",
        "    'valid.csv',\n",
        "]\n",
        "\n",
        "repo_id = \"dpquoc/ARC\"\n",
        "\n",
        "# Create a list to store subprocess.Popen objects\n",
        "processes = []\n",
        "\n",
        "for file_name in file_names:\n",
        "    link = f'https://huggingface.co/datasets/{repo_id}/resolve/main/ARC-Challenge/{file_name}'\n",
        "    command = [\"wget\", link]\n",
        "\n",
        "    # Redirect output to /dev/null (Linux) or NUL (Windows)\n",
        "    processes.append(subprocess.Popen(command, stdout=subprocess.DEVNULL, stderr=subprocess.DEVNULL))\n",
        "\n",
        "# Wait for all processes to complete\n",
        "for process in processes:\n",
        "    process.wait()\n",
        "\n",
        "print(\"All downloads initiated.\")\n",
        "os.chdir('..')\n",
        "\n",
        "\n",
        "os.makedirs('ARC-Easy', exist_ok=True)\n",
        "os.chdir('ARC-Easy')\n",
        "\n",
        "# Create a list to store subprocess.Popen objects\n",
        "processes = []\n",
        "\n",
        "for file_name in file_names:\n",
        "    link = f'https://huggingface.co/datasets/{repo_id}/resolve/main/ARC-Easy/{file_name}'\n",
        "    command = [\"wget\", link]\n",
        "\n",
        "    # Redirect output to /dev/null (Linux) or NUL (Windows)\n",
        "    processes.append(subprocess.Popen(command, stdout=subprocess.DEVNULL, stderr=subprocess.DEVNULL))\n",
        "\n",
        "# Wait for all processes to complete\n",
        "for process in processes:\n",
        "    process.wait()\n",
        "\n",
        "print(\"All downloads initiated.\")\n",
        "os.chdir('..')\n",
        "os.chdir('..')"
      ]
    },
    {
      "cell_type": "code",
      "execution_count": 6,
      "metadata": {
        "colab": {
          "base_uri": "https://localhost:8080/"
        },
        "id": "Vv5fzdTgH6JX",
        "outputId": "d6e96beb-394e-450c-d9c8-73e05f929597"
      },
      "outputs": [
        {
          "output_type": "stream",
          "name": "stdout",
          "text": [
            "All downloads initiated.\n"
          ]
        }
      ],
      "source": [
        "os.makedirs('ARC-RAG', exist_ok=True)\n",
        "os.chdir('ARC-RAG')\n",
        "\n",
        "file_names = [\n",
        "    \"ARC-C_Enhance-RAG.csv\",\n",
        "    \"ARC-C_RAG.csv\",\n",
        "    \"ARC-E_Enhance-RAG.csv\",\n",
        "    \"ARC-E_RAG.csv\"\n",
        "]\n",
        "\n",
        "repo_id = \"dpquoc/ARC-RAG\"\n",
        "\n",
        "# Create a list to store subprocess.Popen objects\n",
        "processes = []\n",
        "\n",
        "for file_name in file_names:\n",
        "    link = f'https://huggingface.co/datasets/{repo_id}/resolve/main/{file_name}'\n",
        "    command = [\"wget\", link]\n",
        "\n",
        "    # Redirect output to /dev/null (Linux) or NUL (Windows)\n",
        "    processes.append(subprocess.Popen(command, stdout=subprocess.DEVNULL, stderr=subprocess.DEVNULL))\n",
        "\n",
        "# Wait for all processes to complete\n",
        "for process in processes:\n",
        "    process.wait()\n",
        "\n",
        "print(\"All downloads initiated.\")\n",
        "os.chdir('..')"
      ]
    },
    {
      "cell_type": "markdown",
      "metadata": {
        "id": "cqfaNhbn81Y3"
      },
      "source": [
        "# Load Model"
      ]
    },
    {
      "cell_type": "code",
      "execution_count": 7,
      "metadata": {
        "id": "Uav1nkkEXw-U",
        "colab": {
          "base_uri": "https://localhost:8080/",
          "referenced_widgets": [
            "d253f3007b914e93a2c1ebc52cce99e6",
            "c4c4d202fdf0422ea3800d770e8cc8aa",
            "4b61d54434024cffae75fc2f112ff7b7",
            "9a57ba1a74014b2fa079a2d17f6320b5",
            "de3c1984d6f14b4c8f7f8cd152cc9ba4",
            "d5e6efb7997f4308b96ebda55e4cf851",
            "4bb27ddb480848159032554597ae98be",
            "6796a7e2a00d4f169beb1f62db32abfe",
            "1b35986a5043497c9a740aad35291124",
            "f447fffa0c9b4dfbb036e3700b0dcbef",
            "ff216f6417f345c991a1b220dbb8f692",
            "dfbc0a472c3d43d3a9d8f65b0e4aeef5",
            "53226d1acffd483d91f439c7d4b1d053",
            "dc80ca45eb9742359d9a846ca6d5c0b2",
            "2f0b33416cea47a4b8d1f8c31c910a77",
            "58c60cafc81540808918880983d06415",
            "6947258459724077ad8dd55ac0557a65",
            "cca496f6a7c1483e8b7d2bb51f5f069e",
            "195e2f9bdb6645bda93484c84b102140",
            "19eac73381554af1b86bfa852f81e676",
            "42e3d647b5644fbface6599595ed0674",
            "2aecdb82cfbb452c803aad1d71a02b6e",
            "8ea7d15d66894ef8bdcf37789070cfd4",
            "36e7b7fde674474a883084e802ebedf8",
            "0d71299aefb0460c9d5322693276704e",
            "795fa990ed0641cba572c191bb06d7f5",
            "a0f4fa9bfeec48e1b70af7ad00dfc3fe",
            "c6f18e024a544bc984c5f9724ce1bb0c",
            "130fdc393977463b8d80eb6ba6c7b134",
            "6f894823a0094a1aba32731aa5418f77",
            "8122c8adb3ad452b9cc4bc7d757af64d",
            "081a80288d554007948bf4b923169597",
            "064037ca0b00476e9849a55b0d0e8724",
            "212dfb7d3f4940bc8da9984710202607",
            "c04801592a294d3d8f31b29608a82390",
            "21644a00e43d4ba18c91676605d69691",
            "eb2111db5dc9440394c8dedce5ae1071",
            "1efd9d6aeea444fcb83dfb4fc9f6811c",
            "ca9dd781460d406f831162c3f134d41c",
            "da4797fbb8624237afc720183e97f248",
            "35c7b4892c294032bbb27cb72236e1ea",
            "4e6e478e413e4feebadcf09510f59231",
            "afeab67908da4f6ebc7e8353cad9bc42",
            "29adffb067a841be972defa016727d49",
            "3474a48599844054beb2482b072a6e05",
            "ba073dc697b04449a25420210e2c78fd",
            "ab0e76e88f204ff88a5d8123f342f61d",
            "50956e0b2a044a3db6bf2ccb2000c2dc",
            "cc7a91fb0aa94794a3f3c0f00fb2fbf2",
            "a01e18516b4148ecaf2c7511c6d02d70",
            "b5f5b29845c6477cafb57edb3ae299a5",
            "741c8c9c90e24967baf384617f43128d",
            "7448bd7f943a463597ae655df65833b7",
            "7fbd5d37e823441a878074fb796d680e",
            "367b318454e84664ba618f366000632f",
            "7561b72ac7bd44cab167740a1981c71d",
            "ac2d7899edd84250ac386251441a1c5d",
            "46f43aeea5b44ca4882aab6b71baee5a",
            "b29dd8883adc41b2beba2e9c74cc5596",
            "edbce3e0e5ed493da63489c97eb7387b",
            "c731391a55f94dc6bb9b2ed53b08d8da",
            "7dbc20bffec2431abb96bc8c7af83af3",
            "5e993677c1f444c7811157a488dd440d",
            "df48548dc17d43da94c54ac4288d94c5",
            "637bbdbc765e44a2bbc8f3421e4681fa",
            "04533841319643f7811084be2b853235",
            "01b349b87bff47c88cad25b0441d2f3f",
            "70dd53ed62b6486dbfeaa32115648e28",
            "e1037ef6f39d41bf9f7c8d73b050e1d2",
            "e55859e9b8d249ad9b7f37f40cf57602",
            "bc3f7b1f3c1b46fcb7b31a1b457a4b68",
            "bed9cbf08bd24ae8a150c7152be5fc3a",
            "92df868b5dae4d2e874d3f1ca93eafd6",
            "140bdaf833944475b5cbeca4db6d088a",
            "28edc115a437494aa496cb999a23b962",
            "dabd09410b7c4e7f9ce3805f6bbdba86",
            "84919caf2e5a4375a9237b72d0dc4345",
            "b93cec503d954fa0989a8c84dfd74067",
            "7ea0a878f3ef43b795c06d8fd410f880",
            "c7969122698f4464b199618607682d4f",
            "3b9db1bc16e44db491efb858d7495aeb",
            "935ea3c95edb4ee5bddc01241839cbe8",
            "7156e06ff5c64d52b0ef3626fb55c636",
            "892f25bdc3dc477483936e178e68d0ee",
            "68891af492fa4f0a8061227ed95417e6",
            "7ecb78bb5fa74e65b6c88e4ff95624cc",
            "9cebf28e445147a59b2b2fb2ae8b3745",
            "375e8809b4dd4838abe98a05166a92d0",
            "de4b12563e564c07ba5423f25f0f762e",
            "642e53a6fcb34c7e89cc820e3b46cea4",
            "d68feff87f684ade8e040b8a35a037d6",
            "4839143cdf1247f283432b3360e75f8a",
            "19f195c34e5b48dda64e222740bdd1e2",
            "682179659ba14956917be13186678f30",
            "15c17812189a4e888bf452d8c1924712",
            "083c71616edb439bad69349c66089beb",
            "1293f95eca0b44fcadcd8ef2201b6edd",
            "cc1be4a53d5e4ecc9c98f94460f0f536",
            "ebb28b8fb2e043189a83cc7dc9a53e89",
            "7ac9d10c9f9f49ca87a24ed6e55c468b",
            "d2a887433b6f4571b48eafd658ef286f",
            "d322ef8aef19433ea8e472ac6b945dc3",
            "876c7f0447894cf6a1de1b4c04d0e850",
            "1f81b017a1d34965b8040eeed796b13b",
            "f23b05ce8e7d4e5dac8cb5aa9027c85a",
            "d146fe6677564790b9018cbe51f2d151",
            "fd69b78cfb8b4a8597f792b96652502c",
            "42a84396ea4348ab992e8a8eb8beb859",
            "50965c2a6a954a1bb0d56e55c2e6fda5",
            "5e9ad7bcd3714616ab933522b7c19b66",
            "e79c519290fc42ae96aba0017a20257f",
            "bb5dcb3b804340a6924ec11062df426a",
            "32b50a9c80354426b34a6461b72dab9d",
            "db9ace5e55ae43a3a395b09bba2a0a1b",
            "64fae4edd86748ceb45025ac0de7a369",
            "7c96a2b5dab942239b926c71059c0b81",
            "5392a55a1805446ca283b0dc27e150f5",
            "c2bae0dea02c4485ba629dc4a0452fe2",
            "075e726472d6422ebe479ebf84b91ff0",
            "15e848b3b80d49279faaa9e4b51222c9",
            "54d8d0c1981a4f728954f0c50825ea6b"
          ],
          "height": 473
        },
        "outputId": "94d8d9bc-59a2-4246-ea8f-f42e39fd795e"
      },
      "outputs": [
        {
          "output_type": "stream",
          "name": "stderr",
          "text": [
            "/usr/local/lib/python3.10/dist-packages/huggingface_hub/utils/_token.py:89: UserWarning: \n",
            "The secret `HF_TOKEN` does not exist in your Colab secrets.\n",
            "To authenticate with the Hugging Face Hub, create a token in your settings tab (https://huggingface.co/settings/tokens), set it as secret in your Google Colab and restart your session.\n",
            "You will be able to reuse this secret in all of your notebooks.\n",
            "Please note that authentication is recommended but still optional to access public models or datasets.\n",
            "  warnings.warn(\n"
          ]
        },
        {
          "output_type": "display_data",
          "data": {
            "text/plain": [
              "config.json:   0%|          | 0.00/507 [00:00<?, ?B/s]"
            ],
            "application/vnd.jupyter.widget-view+json": {
              "version_major": 2,
              "version_minor": 0,
              "model_id": "d253f3007b914e93a2c1ebc52cce99e6"
            }
          },
          "metadata": {}
        },
        {
          "output_type": "display_data",
          "data": {
            "text/plain": [
              "pytorch_model.bin.index.json:   0%|          | 0.00/26.8k [00:00<?, ?B/s]"
            ],
            "application/vnd.jupyter.widget-view+json": {
              "version_major": 2,
              "version_minor": 0,
              "model_id": "dfbc0a472c3d43d3a9d8f65b0e4aeef5"
            }
          },
          "metadata": {}
        },
        {
          "output_type": "display_data",
          "data": {
            "text/plain": [
              "Downloading shards:   0%|          | 0/2 [00:00<?, ?it/s]"
            ],
            "application/vnd.jupyter.widget-view+json": {
              "version_major": 2,
              "version_minor": 0,
              "model_id": "8ea7d15d66894ef8bdcf37789070cfd4"
            }
          },
          "metadata": {}
        },
        {
          "output_type": "display_data",
          "data": {
            "text/plain": [
              "pytorch_model-00001-of-00002.bin:   0%|          | 0.00/9.98G [00:00<?, ?B/s]"
            ],
            "application/vnd.jupyter.widget-view+json": {
              "version_major": 2,
              "version_minor": 0,
              "model_id": "212dfb7d3f4940bc8da9984710202607"
            }
          },
          "metadata": {}
        },
        {
          "output_type": "display_data",
          "data": {
            "text/plain": [
              "pytorch_model-00002-of-00002.bin:   0%|          | 0.00/3.50G [00:00<?, ?B/s]"
            ],
            "application/vnd.jupyter.widget-view+json": {
              "version_major": 2,
              "version_minor": 0,
              "model_id": "3474a48599844054beb2482b072a6e05"
            }
          },
          "metadata": {}
        },
        {
          "output_type": "display_data",
          "data": {
            "text/plain": [
              "Loading checkpoint shards:   0%|          | 0/2 [00:00<?, ?it/s]"
            ],
            "application/vnd.jupyter.widget-view+json": {
              "version_major": 2,
              "version_minor": 0,
              "model_id": "7561b72ac7bd44cab167740a1981c71d"
            }
          },
          "metadata": {}
        },
        {
          "output_type": "display_data",
          "data": {
            "text/plain": [
              "generation_config.json:   0%|          | 0.00/137 [00:00<?, ?B/s]"
            ],
            "application/vnd.jupyter.widget-view+json": {
              "version_major": 2,
              "version_minor": 0,
              "model_id": "01b349b87bff47c88cad25b0441d2f3f"
            }
          },
          "metadata": {}
        },
        {
          "output_type": "display_data",
          "data": {
            "text/plain": [
              "tokenizer_config.json:   0%|          | 0.00/727 [00:00<?, ?B/s]"
            ],
            "application/vnd.jupyter.widget-view+json": {
              "version_major": 2,
              "version_minor": 0,
              "model_id": "b93cec503d954fa0989a8c84dfd74067"
            }
          },
          "metadata": {}
        },
        {
          "output_type": "display_data",
          "data": {
            "text/plain": [
              "tokenizer.model:   0%|          | 0.00/500k [00:00<?, ?B/s]"
            ],
            "application/vnd.jupyter.widget-view+json": {
              "version_major": 2,
              "version_minor": 0,
              "model_id": "de4b12563e564c07ba5423f25f0f762e"
            }
          },
          "metadata": {}
        },
        {
          "output_type": "display_data",
          "data": {
            "text/plain": [
              "tokenizer.json:   0%|          | 0.00/1.84M [00:00<?, ?B/s]"
            ],
            "application/vnd.jupyter.widget-view+json": {
              "version_major": 2,
              "version_minor": 0,
              "model_id": "7ac9d10c9f9f49ca87a24ed6e55c468b"
            }
          },
          "metadata": {}
        },
        {
          "output_type": "display_data",
          "data": {
            "text/plain": [
              "special_tokens_map.json:   0%|          | 0.00/411 [00:00<?, ?B/s]"
            ],
            "application/vnd.jupyter.widget-view+json": {
              "version_major": 2,
              "version_minor": 0,
              "model_id": "e79c519290fc42ae96aba0017a20257f"
            }
          },
          "metadata": {}
        }
      ],
      "source": [
        "model_name = 'daryl149/llama-2-7b-chat-hf'\n",
        "\n",
        "\n",
        "\n",
        "\n",
        "model = AutoModelForCausalLM.from_pretrained(\n",
        "    model_name,\n",
        "    torch_dtype=torch.bfloat16,\n",
        "    trust_remote_code=True,\n",
        ")\n",
        "\n",
        "tokenizer = AutoTokenizer.from_pretrained(model_name)\n",
        "\n",
        "model = model.to(\"cuda\")"
      ]
    },
    {
      "cell_type": "code",
      "source": [
        "labels = [\"A\" ,\"B\", \"C\", \"D\"]"
      ],
      "metadata": {
        "id": "dDPWYJroxxIv"
      },
      "execution_count": 8,
      "outputs": []
    },
    {
      "cell_type": "code",
      "execution_count": 9,
      "metadata": {
        "colab": {
          "base_uri": "https://localhost:8080/"
        },
        "id": "gE3tnhJAdHNE",
        "outputId": "4a02acf1-7992-4478-8353-ce0a0691dafd"
      },
      "outputs": [
        {
          "output_type": "execute_result",
          "data": {
            "text/plain": [
              "[319, 350, 315, 360]"
            ]
          },
          "metadata": {},
          "execution_count": 9
        }
      ],
      "source": [
        "# Get token ids\n",
        "labels_token_id = tokenizer.encode(\"A B C D\")[1:]\n",
        "labels_token_id"
      ]
    },
    {
      "cell_type": "code",
      "execution_count": 10,
      "metadata": {
        "colab": {
          "base_uri": "https://localhost:8080/"
        },
        "id": "qb4HiAAxdHNE",
        "outputId": "ef55d003-8ec5-42d4-a0fa-a70973b74e73"
      },
      "outputs": [
        {
          "output_type": "execute_result",
          "data": {
            "text/plain": [
              "[4874]"
            ]
          },
          "metadata": {},
          "execution_count": 10
        }
      ],
      "source": [
        "# Get token ids\n",
        "yes_token_id = tokenizer.encode(\"yes\")[1:]\n",
        "yes_token_id"
      ]
    },
    {
      "cell_type": "code",
      "source": [
        "# Get token ids\n",
        "no_token_id = tokenizer.encode(\"no\")[1:]\n",
        "no_token_id"
      ],
      "metadata": {
        "colab": {
          "base_uri": "https://localhost:8080/"
        },
        "id": "qY15GfdYAOSH",
        "outputId": "14ca1b07-40f8-4b5e-dacf-6c2e03a2ee99"
      },
      "execution_count": 11,
      "outputs": [
        {
          "output_type": "execute_result",
          "data": {
            "text/plain": [
              "[694]"
            ]
          },
          "metadata": {},
          "execution_count": 11
        }
      ]
    },
    {
      "cell_type": "markdown",
      "metadata": {
        "id": "Ufks5VRSdHNF"
      },
      "source": [
        "# 1. Baseline approach"
      ]
    },
    {
      "cell_type": "code",
      "execution_count": null,
      "metadata": {
        "id": "XMG8UZ5GdHNG"
      },
      "outputs": [],
      "source": [
        "# Read the CSV file\n",
        "\n",
        "# df = pd.read_csv(\"/content/ARC/ARC-Easy/test.csv\").drop(\"id\", axis=1)\n",
        "df = pd.read_csv(\"/content/ARC/ARC-Challenge/test.csv\").drop(\"id\", axis=1)\n",
        "df.fillna(' ', inplace=True)\n",
        "df = df.astype(str)\n",
        "\n",
        "get_sample = False\n",
        "if get_sample:\n",
        "  # Define the sample index\n",
        "  sample_index = 123\n",
        "  df = df.iloc[[sample_index]]\n",
        "\n",
        "\n",
        "# Create the 'instruction' column\n",
        "df['instruction'] = 'Question: ' + df['question'] + '\\n\\nA. ' + df['A'] + '\\n\\nB. ' + df['B'] + '\\n\\nC. ' + df['C'] + ' \\n\\nD. ' + df['D']\n",
        "# df['instruction'] = df['question'] + '\\n\\nA. ' + df['A'] + '\\n\\nB. ' + df['B'] + '\\n\\nC. ' + df['C'] + ' \\n\\nD. ' + df['D']\n"
      ]
    },
    {
      "cell_type": "code",
      "execution_count": null,
      "metadata": {
        "colab": {
          "base_uri": "https://localhost:8080/"
        },
        "id": "vK6aojGecHw2",
        "outputId": "6801ba5b-5f4e-48f1-9f7f-289c0ac07c13"
      },
      "outputs": [
        {
          "output_type": "stream",
          "name": "stdout",
          "text": [
            "Sample Question and Options:\n",
            "----------------------------\n",
            "\n",
            "Question: An astronomer observes that a planet rotates faster after a meteorite impact. Which is the most likely effect of this increase in rotation?\n",
            "A. Planetary density will decrease.\n",
            "B. Planetary years will become longer.\n",
            "C. Planetary days will become shorter.\n",
            "D. Planetary gravity will become stronger.\n",
            "True Answer: C\n"
          ]
        }
      ],
      "source": [
        "print(\"Sample Question and Options:\")\n",
        "print(\"----------------------------\\n\")\n",
        "\n",
        "print(f\"Question: {df['question'].values[0]}\")\n",
        "print(f\"A. {df['A'].values[0]}\")\n",
        "print(f\"B. {df['B'].values[0]}\")\n",
        "print(f\"C. {df['C'].values[0]}\")\n",
        "print(f\"D. {df['D'].values[0]}\")\n",
        "print(f\"True Answer: {df['answer'].values[0]}\")"
      ]
    },
    {
      "cell_type": "code",
      "execution_count": null,
      "metadata": {
        "colab": {
          "base_uri": "https://localhost:8080/"
        },
        "id": "mZCfgYLvdHNG",
        "outputId": "73587646-2766-4905-e8de-8627166d1142",
        "scrolled": true
      },
      "outputs": [
        {
          "output_type": "stream",
          "name": "stderr",
          "text": [
            "100%|██████████| 1172/1172 [05:48<00:00,  3.36it/s]\n"
          ]
        }
      ],
      "source": [
        "# Note: Each LLM may have its own instruction finetuned format, which may differ from the current prompt format I am using. If the results seem incorrect when switching to a different LLM,\n",
        "#       you may need to adjust the prompt to its own instruction format properly.\n",
        "\n",
        "prompt = \"\"\"\n",
        "<s> [INST] Your task is to analyze the question and answer options A, B, C or D below.\n",
        "query\n",
        "[/INST] Answer:\"\"\"\n",
        "\n",
        "preds = []\n",
        "logits = []\n",
        "\n",
        "for _, row in tqdm(df.iterrows(), total=len(df)):\n",
        "    inputs = tokenizer(prompt.replace('query', row['instruction']) , return_tensors=\"pt\").to(f\"cuda:{model.device.index}\")\n",
        "    with torch.no_grad():\n",
        "        output = model.generate(input_ids=inputs[\"input_ids\"], attention_mask=inputs[\"attention_mask\"],\n",
        "#                                 max_length=MAX_LENGTH,\n",
        "                                max_new_tokens = 1,\n",
        "                                return_dict_in_generate=True, output_scores=True)\n",
        "\n",
        "    first_token_logits = output.scores[0][0]\n",
        "    option_logits = first_token_logits[labels_token_id].float().cpu().numpy() #ABCD\n",
        "\n",
        "    logits.append(option_logits)\n",
        "    pred = np.array([\"A\", \"B\", \"C\", \"D\"])[np.argsort(option_logits)[::-1][:4]] # Sort the prediction based on the high prob\n",
        "    pred = ' '.join(pred)\n",
        "    preds.append(pred)\n",
        "\n",
        "# Calculate probabilities using the stored logits\n",
        "probs = [softmax(logit) for logit in logits]"
      ]
    },
    {
      "cell_type": "code",
      "execution_count": null,
      "metadata": {
        "id": "U8MY4_aXdHNH"
      },
      "outputs": [],
      "source": [
        "df['pred_answer'] = preds"
      ]
    },
    {
      "cell_type": "code",
      "source": [
        "print(\"Sample Question and Options:\")\n",
        "print(\"----------------------------\\n\")\n",
        "\n",
        "print(f\"Question: {df['question'].values[0]}\")\n",
        "print(f\"A. {df['A'].values[0]}\")\n",
        "print(f\"B. {df['B'].values[0]}\")\n",
        "print(f\"C. {df['C'].values[0]}\")\n",
        "print(f\"D. {df['D'].values[0]}\")\n",
        "print(f\"True Answer: {df['answer'].values[0]}\")"
      ],
      "metadata": {
        "colab": {
          "base_uri": "https://localhost:8080/"
        },
        "id": "jVfajmNwFxnp",
        "outputId": "2d357f0f-6b09-4d06-d522-2ee52c83183c"
      },
      "execution_count": null,
      "outputs": [
        {
          "output_type": "stream",
          "name": "stdout",
          "text": [
            "Sample Question and Options:\n",
            "----------------------------\n",
            "\n",
            "Question: An astronomer observes that a planet rotates faster after a meteorite impact. Which is the most likely effect of this increase in rotation?\n",
            "A. Planetary density will decrease.\n",
            "B. Planetary years will become longer.\n",
            "C. Planetary days will become shorter.\n",
            "D. Planetary gravity will become stronger.\n",
            "True Answer: C\n"
          ]
        }
      ]
    },
    {
      "cell_type": "code",
      "execution_count": null,
      "metadata": {
        "colab": {
          "base_uri": "https://localhost:8080/"
        },
        "id": "oULjJ62mDWGm",
        "outputId": "6b04270f-9211-41ed-bc73-f59b1afa39dc"
      },
      "outputs": [
        {
          "output_type": "stream",
          "name": "stdout",
          "text": [
            "Sample Question Result:\n",
            "\n",
            "True Answer: C\n",
            "Answer Prediction: C\n",
            "Logits: [10.0625 11.25   16.875  10.0625]\n",
            "Probabilities: [0.00109359 0.00358574 0.99422705 0.00109359]\n"
          ]
        }
      ],
      "source": [
        "# Extract the first key from each prediction\n",
        "first_preds = [pred.split()[0] for pred in preds]\n",
        "\n",
        "print(\"Sample Question Result:\\n\")\n",
        "print(f\"True Answer: {df['answer'].values[0]}\")\n",
        "print(f'Answer Prediction: {first_preds[0]}')\n",
        "print(f'Logits: {logits[0]}')\n",
        "print(f'Probabilities: {probs[0]}')"
      ]
    },
    {
      "cell_type": "code",
      "execution_count": null,
      "metadata": {
        "id": "mZ9wnJGWdHNH"
      },
      "outputs": [],
      "source": [
        "# CALCULATE ACCURACY OF PREDICTION\n",
        "\n",
        "# Convert both lists to Series\n",
        "first_preds_series = pd.Series(first_preds, index=df.index)\n",
        "answers_series = df['answer']\n",
        "\n",
        "# Ensure both Series have the same index\n",
        "first_preds_series = first_preds_series.reset_index(drop=True)\n",
        "answers_series = answers_series.reset_index(drop=True)\n",
        "\n",
        "# Calculate the number of correct predictions\n",
        "correct_preds = (first_preds_series == answers_series).sum()\n",
        "\n",
        "# Calculate the accuracy\n",
        "accuracy = correct_preds / len(df)\n",
        "\n",
        "print(f'Accuracy: {accuracy * 100:.2f}%')"
      ]
    },
    {
      "cell_type": "markdown",
      "metadata": {
        "id": "A0oyNdqfdHNI"
      },
      "source": [
        "# 2. Basline approach + Context"
      ]
    },
    {
      "cell_type": "code",
      "execution_count": 12,
      "metadata": {
        "id": "zhfKZ2GhdHNI"
      },
      "outputs": [],
      "source": [
        "# ARC + Context from RAG\n",
        "# df = pd.read_csv(\"/content/ARC-RAG/ARC-E_RAG.csv\")\n",
        "df = pd.read_csv(\"/content/ARC-RAG/ARC-C_RAG.csv\")\n",
        "\n",
        "# # ARC + Context from Enhanced-query RAG\n",
        "# df = pd.read_csv(\"/content/ARC-RAG/ARC-E_Enhance-RAG.csv\")\n",
        "# df = pd.read_csv(\"/content/ARC-RAG/ARC-C_Enhance-RAG.csv\")\n",
        "\n",
        "df.fillna(' ', inplace=True)\n",
        "df = df.astype(str)\n",
        "\n",
        "get_sample = False\n",
        "if get_sample:\n",
        "  # Define the sample index\n",
        "  sample_index = 312\n",
        "  df = df.iloc[[sample_index]]\n",
        "\n",
        "MAX_CONTEXT = 3000\n",
        "# Create the 'instruction' column\n",
        "df['instruction'] = '\\n####\\nContext: ' + df['context'].str[:MAX_CONTEXT] + '\\n####\\n\\nQuestion: ' + df['question'] + '\\n\\nA. ' + df['A'] + '\\n\\nB. ' + df['B'] + '\\n\\nC. ' + df['C'] + ' \\n\\nD. ' + df['D']"
      ]
    },
    {
      "cell_type": "code",
      "execution_count": 13,
      "metadata": {
        "colab": {
          "base_uri": "https://localhost:8080/"
        },
        "id": "-O2oE3OFdHNJ",
        "outputId": "2af2dfc5-94ad-4469-b391-90ec205f1b10"
      },
      "outputs": [
        {
          "output_type": "stream",
          "name": "stdout",
          "text": [
            "Sample Question and Options:\n",
            "----------------------------\n",
            "\n",
            "Question: An astronomer observes that a planet rotates faster after a meteorite impact. Which is the most likely effect of this increase in rotation?\n",
            "A. Planetary density will decrease.\n",
            "B. Planetary years will become longer.\n",
            "C. Planetary days will become shorter.\n",
            "D. Planetary gravity will become stronger.\n",
            "True Answer: C\n"
          ]
        }
      ],
      "source": [
        "print(\"Sample Question and Options:\")\n",
        "print(\"----------------------------\\n\")\n",
        "\n",
        "print(f\"Question: {df['question'].values[0]}\")\n",
        "print(f\"A. {df['A'].values[0]}\")\n",
        "print(f\"B. {df['B'].values[0]}\")\n",
        "print(f\"C. {df['C'].values[0]}\")\n",
        "print(f\"D. {df['D'].values[0]}\")\n",
        "print(f\"True Answer: {df['answer'].values[0]}\")"
      ]
    },
    {
      "cell_type": "code",
      "execution_count": 14,
      "metadata": {
        "colab": {
          "base_uri": "https://localhost:8080/"
        },
        "id": "_WXKln22dHNJ",
        "outputId": "39b178b4-e142-4888-d588-9066bb2c15b3"
      },
      "outputs": [
        {
          "output_type": "stream",
          "name": "stderr",
          "text": [
            "100%|██████████| 1172/1172 [07:52<00:00,  2.48it/s]\n"
          ]
        }
      ],
      "source": [
        "prompt = \"\"\"\n",
        "<s> [INST] Your task is to analyze the question and answer options below. As a potential aid to your answer, background context from Wikipedia articles is at your disposal, delimited by #### , even if they might not always be relevant.\n",
        "query [/INST] Answer:\"\"\"\n",
        "\n",
        "preds = []\n",
        "logits = []\n",
        "\n",
        "for _, row in tqdm(df.iterrows(), total=len(df)):\n",
        "\n",
        "    inputs = tokenizer(prompt.replace('query', row['instruction']) , return_tensors=\"pt\").to(f\"cuda:{model.device.index}\")\n",
        "    with torch.no_grad():\n",
        "        output = model.generate(input_ids=inputs[\"input_ids\"], attention_mask=inputs[\"attention_mask\"],\n",
        "#                                 max_length=MAX_LENGTH,\n",
        "                                max_new_tokens = 1,\n",
        "                                return_dict_in_generate=True, output_scores=True)\n",
        "\n",
        "    del inputs\n",
        "    gc.collect()\n",
        "    torch.cuda.empty_cache()\n",
        "\n",
        "    first_token_logits = output.scores[0][0]\n",
        "    # option_logits = first_token_logits[[330, 365, 334, 384]].float().cpu().numpy() #ABCD\n",
        "    option_logits = first_token_logits[labels_token_id].float().cpu().numpy() #ABCD  LLAMA2\n",
        "\n",
        "    logits.append(option_logits)\n",
        "    pred = np.array([\"A\", \"B\", \"C\", \"D\"])[np.argsort(option_logits)[::-1][:4]]\n",
        "    pred = ' '.join(pred)\n",
        "    preds.append(pred)\n",
        "\n",
        "# Calculate probabilities using the stored logits\n",
        "probs = [softmax(logit) for logit in logits]"
      ]
    },
    {
      "cell_type": "code",
      "execution_count": 15,
      "metadata": {
        "id": "tCZSgD7jdHNJ"
      },
      "outputs": [],
      "source": [
        "df['pred_answer'] = preds"
      ]
    },
    {
      "cell_type": "code",
      "execution_count": null,
      "metadata": {
        "id": "LlMARZwknQXv"
      },
      "outputs": [],
      "source": [
        "# Extract the first key from each prediction\n",
        "first_preds = [pred.split()[0] for pred in preds]\n",
        "\n",
        "print(\"Sample Question Result:\\n\")\n",
        "print(f\"True Answer: {df['answer'].values[0]}\")\n",
        "print(f'Answer Prediction: {first_preds[0]}')\n",
        "print(f'Logits: {logits[0]}')\n",
        "print(f'Probabilities: {probs[0]}')"
      ]
    },
    {
      "cell_type": "code",
      "execution_count": null,
      "metadata": {
        "id": "BYuX0_dNdHNK"
      },
      "outputs": [],
      "source": [
        "# CALCULATE ACCURACY OF PREDICTION\n",
        "\n",
        "# Convert both lists to Series\n",
        "first_preds_series = pd.Series(first_preds, index=df.index)\n",
        "answers_series = df['answer']\n",
        "\n",
        "# Calculate the number of correct predictions\n",
        "correct_preds = (first_preds_series == answers_series).sum()\n",
        "\n",
        "# Calculate the accuracy\n",
        "accuracy = correct_preds / len(df)\n",
        "\n",
        "print(f'Accuracy: {accuracy * 100:.2f}%')\n"
      ]
    },
    {
      "cell_type": "markdown",
      "metadata": {
        "id": "bumCLBbUdHNK"
      },
      "source": [
        "# 3. Single Token Logits approach (STL)"
      ]
    },
    {
      "cell_type": "code",
      "execution_count": null,
      "metadata": {
        "id": "2LK1xHUtdHNL"
      },
      "outputs": [],
      "source": [
        "# Read the CSV file\n",
        "\n",
        "# df = pd.read_csv(\"/content/ARC/ARC-Easy/test.csv\").drop(\"id\", axis=1)\n",
        "df = pd.read_csv(\"/content/ARC/ARC-Challenge/test.csv\").drop(\"id\", axis=1)\n",
        "df.fillna(' ', inplace=True)\n",
        "df = df.astype(str)\n",
        "\n",
        "get_sample = False\n",
        "if get_sample:\n",
        "  # Define the sample index\n",
        "  sample_index = 223\n",
        "  df = df.iloc[[sample_index]]\n"
      ]
    },
    {
      "cell_type": "code",
      "execution_count": null,
      "metadata": {
        "colab": {
          "base_uri": "https://localhost:8080/"
        },
        "id": "2pK-wdF5Hl_n",
        "outputId": "f98ab3a8-e3e8-428d-b0d8-10f2eb136ea6"
      },
      "outputs": [
        {
          "output_type": "stream",
          "name": "stdout",
          "text": [
            "Sample Question and Options:\n",
            "----------------------------\n",
            "\n",
            "Question: An astronomer observes that a planet rotates faster after a meteorite impact. Which is the most likely effect of this increase in rotation?\n",
            "A. Planetary density will decrease.\n",
            "B. Planetary years will become longer.\n",
            "C. Planetary days will become shorter.\n",
            "D. Planetary gravity will become stronger.\n",
            "True Answer: C\n"
          ]
        }
      ],
      "source": [
        "print(\"Sample Question and Options:\")\n",
        "print(\"----------------------------\\n\")\n",
        "\n",
        "print(f\"Question: {df['question'].values[0]}\")\n",
        "print(f\"A. {df['A'].values[0]}\")\n",
        "print(f\"B. {df['B'].values[0]}\")\n",
        "print(f\"C. {df['C'].values[0]}\")\n",
        "print(f\"D. {df['D'].values[0]}\")\n",
        "print(f\"True Answer: {df['answer'].values[0]}\")"
      ]
    },
    {
      "cell_type": "markdown",
      "source": [
        "Overview approach\n",
        "\n",
        "Note: This approach can be improved. Currently, the comparison between the \"yes\" logits is not scaled, which affects the relational integrity between the logits."
      ],
      "metadata": {
        "id": "X3gDYzeYbxHa"
      }
    },
    {
      "cell_type": "markdown",
      "source": [
        "![](https://drive.google.com/uc?export=view&id=1ArgOsnQlThvcfUGr952eJ02UbNRJz7qp)"
      ],
      "metadata": {
        "id": "wxD3ztwsbnTb"
      }
    },
    {
      "cell_type": "code",
      "execution_count": null,
      "metadata": {
        "id": "ok0vDJrndHNL"
      },
      "outputs": [],
      "source": [
        "def get_prompts(row):\n",
        "    instruction = \"\"\"<s> [INST] Your task is to analyze the question and answer below. If the answer is correct, respond yes, if it is not correct respond no.\n",
        "  {question} [/INST]\"\"\"\n",
        "    question = f\"\\nQuestion: {row['question']}\\nProposed answer: \"\n",
        "\n",
        "    prompts = []  # Store tokenized prompts\n",
        "\n",
        "    for letter in \"ABCD\":\n",
        "        prompt_suffix = f\"{row[letter]}\\n\\n### Response:\\n\"\n",
        "        full_prompt = instruction.format(question=question) + prompt_suffix\n",
        "        prompts.append(full_prompt)\n",
        "\n",
        "    return prompts"
      ]
    },
    {
      "cell_type": "code",
      "execution_count": null,
      "metadata": {
        "id": "gP94Fh5JdHNL"
      },
      "outputs": [],
      "source": [
        "f = partial(get_prompts)\n",
        "inputs = df.apply(f, axis=1).values\n",
        "inputs = [item for sublist in inputs for item in sublist]"
      ]
    },
    {
      "cell_type": "code",
      "execution_count": null,
      "metadata": {
        "id": "_Na7YhiEdHNM"
      },
      "outputs": [],
      "source": [
        "tokenizer.padding_side = \"left\"\n",
        "\n",
        "# Define PAD Token = EOS Token\n",
        "tokenizer.pad_token = tokenizer.eos_token\n",
        "model.config.pad_token_id = model.config.eos_token_id"
      ]
    },
    {
      "cell_type": "code",
      "execution_count": null,
      "metadata": {
        "colab": {
          "base_uri": "https://localhost:8080/"
        },
        "id": "pYO00frrdHNM",
        "outputId": "48f4b8fd-2040-49dc-bd6d-eb2db12c2f6f"
      },
      "outputs": [
        {
          "metadata": {
            "tags": null
          },
          "name": "stderr",
          "output_type": "stream",
          "text": [
            "<ipython-input-23-b09570f9b6a1>:21: DeprecationWarning: Conversion of an array with ndim > 0 to a scalar is deprecated, and will error in future. Ensure you extract a single element from your array before performing this operation. (Deprecated NumPy 1.25.)\n",
            "  yes_logit = float(scores[yes_token_id].float().cpu().numpy())\n",
            "<ipython-input-23-b09570f9b6a1>:22: DeprecationWarning: Conversion of an array with ndim > 0 to a scalar is deprecated, and will error in future. Ensure you extract a single element from your array before performing this operation. (Deprecated NumPy 1.25.)\n",
            "  no_logit = float(scores[no_token_id].float().cpu().numpy())\n"
          ]
        }
      ],
      "source": [
        "batch_size = 4\n",
        "yes_logits = []\n",
        "no_logits = []\n",
        "yes_probs = []\n",
        "\n",
        "with torch.no_grad():\n",
        "    for i in range(0, len(inputs), batch_size):\n",
        "        batch = inputs[i:i+batch_size]\n",
        "        batch_tokens = tokenizer(batch, return_tensors=\"pt\", return_attention_mask=True, padding=True).to(f\"cuda:{model.device.index}\")\n",
        "\n",
        "        batch_outputs = model.generate(\n",
        "            **batch_tokens,\n",
        "            max_new_tokens = 1,\n",
        "            return_dict_in_generate=True,\n",
        "            output_scores=True,\n",
        "        )\n",
        "\n",
        "        first_token_logits = batch_outputs.scores[0]\n",
        "\n",
        "        for scores in first_token_logits:\n",
        "            yes_logit = float(scores[yes_token_id].float().cpu().numpy())\n",
        "            no_logit = float(scores[no_token_id].float().cpu().numpy())\n",
        "            yes_logits.append(yes_logit)\n",
        "            no_logits.append(no_logit)\n",
        "\n",
        "            logits = torch.tensor([yes_logit, no_logit])\n",
        "            yes_prob = F.softmax(logits, dim=0)[0].item()\n",
        "            yes_probs.append(yes_prob)\n",
        "\n",
        "\n",
        "        del batch\n",
        "        del batch_tokens\n",
        "        del batch_outputs\n",
        "\n",
        "        # Call the garbage collector\n",
        "        gc.collect()\n",
        "        torch.cuda.empty_cache()\n"
      ]
    },
    {
      "cell_type": "code",
      "source": [
        "# NOTE: THIS IS STILL IN EXPERIMENT AND NOT INCLUDED IN THE REPORT!\n",
        "\n",
        "# Explanation:\n",
        "# Changing this variable to \"True\" will change the approach differs from the one described in the report.\n",
        "# Instead of comparing the 'yes' logits across different options with softmax,\n",
        "# we compute the local probabilities between 'yes' and 'no' logits for each option prompt.\n",
        "# Finally, we use argmax to select the option with the highest 'yes' probability.\n",
        "\n",
        "# You may keep this variable \"False\" if just using the current approach\n",
        "local_yes_prob = False"
      ],
      "metadata": {
        "id": "DAwKwZa2IBUR"
      },
      "execution_count": null,
      "outputs": []
    },
    {
      "cell_type": "markdown",
      "source": [
        "![](https://drive.google.com/uc?export=view&id=1BRw-nKFxj7pxH-U0IQjsqSR05bCAP7yY)"
      ],
      "metadata": {
        "id": "vq8WMFxdMleR"
      }
    },
    {
      "cell_type": "code",
      "execution_count": null,
      "metadata": {
        "id": "DRq3xqyLdHNM"
      },
      "outputs": [],
      "source": [
        "if local_yes_prob:\n",
        "  output_np = np.array(yes_probs)  # Convert to numpy array\n",
        "  reshaped_output = np.reshape(output_np, (-1, 4))  # Reshape to (-1, 4)\n",
        "\n",
        "else:\n",
        "  output_np = np.array(yes_logits)  # Convert to numpy array\n",
        "  reshaped_output = np.reshape(output_np, (-1, 4))  # Reshape to (-1, 4)\n",
        "  probs_output = np.apply_along_axis(softmax, 1, reshaped_output)"
      ]
    },
    {
      "cell_type": "code",
      "execution_count": null,
      "metadata": {
        "id": "Wn9H7aOcdHNN"
      },
      "outputs": [],
      "source": [
        "# Assuming `reshaped_output` is your numpy array\n",
        "labels = np.array([\"A\", \"B\", \"C\", \"D\"])  # Define your labels\n",
        "preds = []  # Initialize your list\n",
        "\n",
        "for option_scores in reshaped_output:\n",
        "    pred = labels[np.argsort(option_scores)[::-1][:4]]  # Sort the scores, select the top 4, and map to labels\n",
        "    pred = ' '.join(pred)  # Join the labels into a string\n",
        "    preds.append(pred)  # Append the result to the list"
      ]
    },
    {
      "cell_type": "code",
      "execution_count": null,
      "metadata": {
        "id": "DKENPBbKuIhn"
      },
      "outputs": [],
      "source": [
        "# Extract the first key from each prediction\n",
        "first_preds = [pred.split()[0] for pred in preds]"
      ]
    },
    {
      "cell_type": "code",
      "source": [
        "print(\"Sample Question and Options:\")\n",
        "print(\"----------------------------\\n\")\n",
        "\n",
        "print(f\"Question: {df['question'].values[0]}\")\n",
        "print(f\"A. {df['A'].values[0]}\")\n",
        "print(f\"B. {df['B'].values[0]}\")\n",
        "print(f\"C. {df['C'].values[0]}\")\n",
        "print(f\"D. {df['D'].values[0]}\")\n",
        "print(f\"True Answer: {df['answer'].values[0]}\")"
      ],
      "metadata": {
        "id": "t4cUlxuTF-v5"
      },
      "execution_count": null,
      "outputs": []
    },
    {
      "cell_type": "code",
      "execution_count": null,
      "metadata": {
        "id": "6B3pW-YEnSIm"
      },
      "outputs": [],
      "source": [
        "print(\"Sample Question Result:\\n\")\n",
        "print(f\"True Answer: {df['answer'].values[0]}\")\n",
        "print(f'Answer Prediction: {first_preds[0]}')\n",
        "if not local_yes_prob:\n",
        "  print(f'Yes Logits: {reshaped_output[0]}')\n",
        "  print(f'Probabilities: {probs_output[0]}')\n",
        "else:\n",
        "  print(f'Yes Probabilities: {reshaped_output[0]}')\n"
      ]
    },
    {
      "cell_type": "code",
      "execution_count": null,
      "metadata": {
        "id": "OATb7uMou2pY"
      },
      "outputs": [],
      "source": [
        "# CALCULATE ACCURACY OF PREDICTION\n",
        "\n",
        "# Convert both lists to Series\n",
        "first_preds_series = pd.Series(first_preds, index=df.index)\n",
        "answers_series = df['answer']\n",
        "\n",
        "# Calculate the number of correct predictions\n",
        "correct_preds = (first_preds_series == answers_series).sum()\n",
        "\n",
        "# Calculate the accuracy\n",
        "accuracy = correct_preds / len(df)\n",
        "\n",
        "print(f'Accuracy: {accuracy * 100:.2f}%')\n"
      ]
    },
    {
      "cell_type": "code",
      "execution_count": null,
      "metadata": {
        "id": "gV0K12_TdHNN"
      },
      "outputs": [],
      "source": [
        "df['pred_answer'] = preds"
      ]
    },
    {
      "cell_type": "markdown",
      "metadata": {
        "id": "LE0TD-xkdHNO"
      },
      "source": [
        "# 4. STL approach + Context"
      ]
    },
    {
      "cell_type": "code",
      "execution_count": null,
      "metadata": {
        "id": "hqH3AIO0dHNO"
      },
      "outputs": [],
      "source": [
        "# ARC + Context from RAG\n",
        "# df = pd.read_csv(\"/content/ARC-RAG/ARC-E_RAG.csv\")\n",
        "# df = pd.read_csv(\"/content/ARC-RAG/ARC-C_RAG.csv\")\n",
        "\n",
        "# # ARC + Context from Enhanced-query RAG\n",
        "df = pd.read_csv(\"/content/ARC-RAG/ARC-E_Enhance-RAG.csv\")\n",
        "# df = pd.read_csv(\"/content/ARC-RAG/ARC-C_Enhance-RAG.csv\")\n",
        "\n",
        "df.fillna(' ', inplace=True)\n",
        "df = df.astype(str)\n",
        "\n",
        "get_sample = False\n",
        "if get_sample:\n",
        "  # Define the sample index\n",
        "  sample_index = 312\n",
        "  df = df.iloc[[sample_index]]\n",
        "\n",
        "MAX_CONTEXT = 3000"
      ]
    },
    {
      "cell_type": "code",
      "execution_count": null,
      "metadata": {
        "colab": {
          "base_uri": "https://localhost:8080/"
        },
        "id": "782kBpZ2IXOo",
        "outputId": "738a0dd2-2021-4a68-d4c5-f6ff57640f6b"
      },
      "outputs": [
        {
          "output_type": "stream",
          "name": "stdout",
          "text": [
            "Sample Question and Options:\n",
            "----------------------------\n",
            "\n",
            "Question: Which statement best explains why photosynthesis is the foundation of most food webs?\n",
            "A. Sunlight is the source of energy for nearly all ecosystems.\n",
            "B. Most ecosystems are found on land instead of in water.\n",
            "C. Carbon dioxide is more available than other gases.\n",
            "D. The producers in all ecosystems are plants.\n",
            "True Answer: A\n"
          ]
        }
      ],
      "source": [
        "print(\"Sample Question and Options:\")\n",
        "print(\"----------------------------\\n\")\n",
        "\n",
        "print(f\"Question: {df['question'].values[0]}\")\n",
        "print(f\"A. {df['A'].values[0]}\")\n",
        "print(f\"B. {df['B'].values[0]}\")\n",
        "print(f\"C. {df['C'].values[0]}\")\n",
        "print(f\"D. {df['D'].values[0]}\")\n",
        "print(f\"True Answer: {df['answer'].values[0]}\")"
      ]
    },
    {
      "cell_type": "code",
      "execution_count": null,
      "metadata": {
        "id": "kKBHUMGhdHNO"
      },
      "outputs": [],
      "source": [
        "def get_prompts(row):\n",
        "    instruction = \"\"\"<s> [INST] Your task is to analyze the question and answer below. If the proposed answer is correct then respond yes, if it is wrong then respond no. As a potential aid to your answer, background context from Wikipedia articles is at your disposal, delimited by #### , even if they might not always be relevant.\n",
        "  {question} [/INST]\"\"\"\n",
        "    question = f\"\\n####\\nContext: {row['context'][:MAX_CONTEXT]}.\\n####\\nQuestion: {row['question']}\\nProposed answer: \"\n",
        "\n",
        "    prompts = []  # Store tokenized prompts\n",
        "\n",
        "    for letter in \"ABCD\":\n",
        "        prompt_suffix = f\"{row[letter]}\\n\\n Response:\"\n",
        "        full_prompt = instruction.format(question=question) + prompt_suffix\n",
        "        prompts.append(full_prompt)\n",
        "\n",
        "    return prompts\n",
        "\n"
      ]
    },
    {
      "cell_type": "code",
      "execution_count": null,
      "metadata": {
        "id": "nZgfpaBXdHNO"
      },
      "outputs": [],
      "source": [
        "f = partial(get_prompts)\n",
        "inputs = df.apply(f, axis=1).values\n",
        "inputs = [item for sublist in inputs for item in sublist]"
      ]
    },
    {
      "cell_type": "code",
      "execution_count": null,
      "metadata": {
        "id": "IcKJF98_dHNP"
      },
      "outputs": [],
      "source": [
        "tokenizer.padding_side = \"left\"\n",
        "\n",
        "# Define PAD Token = EOS Token\n",
        "tokenizer.pad_token = tokenizer.eos_token\n",
        "model.config.pad_token_id = model.config.eos_token_id\n"
      ]
    },
    {
      "cell_type": "code",
      "execution_count": null,
      "metadata": {
        "colab": {
          "base_uri": "https://localhost:8080/"
        },
        "id": "-Kos_niGdHNP",
        "outputId": "1f691682-934c-457a-b42f-3b52e0e9b7c2"
      },
      "outputs": [
        {
          "output_type": "stream",
          "name": "stderr",
          "text": [
            "  0%|          | 0/9504 [00:00<?, ?it/s]<ipython-input-63-2cb78c3daed5>:22: DeprecationWarning: Conversion of an array with ndim > 0 to a scalar is deprecated, and will error in future. Ensure you extract a single element from your array before performing this operation. (Deprecated NumPy 1.25.)\n",
            "  yes_logits.append(float(scores[[4874]].float().cpu().numpy()))  # yes, no\n",
            "100%|██████████| 9504/9504 [49:42<00:00,  3.19it/s]\n"
          ]
        }
      ],
      "source": [
        "batch_size = 4\n",
        "yes_logits = []\n",
        "no_logits = []\n",
        "yes_probs = []\n",
        "\n",
        "with torch.no_grad():\n",
        "    for i in range(0, len(inputs), batch_size):\n",
        "        batch = inputs[i:i+batch_size]\n",
        "        batch_tokens = tokenizer(batch, return_tensors=\"pt\", return_attention_mask=True, padding=True).to(f\"cuda:{model.device.index}\")\n",
        "\n",
        "        batch_outputs = model.generate(\n",
        "            **batch_tokens,\n",
        "            max_new_tokens = 1,\n",
        "            return_dict_in_generate=True,\n",
        "            output_scores=True,\n",
        "        )\n",
        "\n",
        "        first_token_logits = batch_outputs.scores[0]\n",
        "\n",
        "        for scores in first_token_logits:\n",
        "            yes_logit = float(scores[yes_token_id].float().cpu().numpy())\n",
        "            no_logit = float(scores[no_token_id].float().cpu().numpy())\n",
        "            yes_logits.append(yes_logit)\n",
        "            no_logits.append(no_logit)\n",
        "\n",
        "            logits = torch.tensor([yes_logit, no_logit])\n",
        "            yes_prob = F.softmax(logits, dim=0)[0].item()\n",
        "            yes_probs.append(yes_prob)\n",
        "\n",
        "\n",
        "        del batch\n",
        "        del batch_tokens\n",
        "        del batch_outputs\n",
        "\n",
        "        # Call the garbage collector\n",
        "        gc.collect()\n",
        "        torch.cuda.empty_cache()\n"
      ]
    },
    {
      "cell_type": "code",
      "execution_count": null,
      "metadata": {
        "id": "16W_hAVwdHNP"
      },
      "outputs": [],
      "source": [
        "# Call the garbage collector\n",
        "gc.collect()\n",
        "torch.cuda.empty_cache()"
      ]
    },
    {
      "cell_type": "code",
      "source": [
        "# NOTE: THIS IS STILL IN EXPERIMENT AND NOT INCLUDED IN THE REPORT!!!\n",
        "\n",
        "# Explanation:\n",
        "# Changing this variable to \"True\" will change the approach differs from the one described in the report.\n",
        "# Instead of comparing the 'yes' logits across different options with softmax,\n",
        "# we compute the local probabilities between 'yes' and 'no' logits for each option prompt.\n",
        "# Finally, we use argmax to select the option with the highest 'yes' probability.\n",
        "\n",
        "# You may keep this variable \"False\" if just using the current one\n",
        "local_yes_prob = False"
      ],
      "metadata": {
        "id": "14YaEYJdSpwh"
      },
      "execution_count": null,
      "outputs": []
    },
    {
      "cell_type": "markdown",
      "source": [
        "![](https://drive.google.com/uc?export=view&id=1BRw-nKFxj7pxH-U0IQjsqSR05bCAP7yY)"
      ],
      "metadata": {
        "id": "ngGdBgvZbOhf"
      }
    },
    {
      "cell_type": "code",
      "execution_count": null,
      "metadata": {
        "id": "0L-2dwzxdHNP"
      },
      "outputs": [],
      "source": [
        "if local_yes_prob:\n",
        "  output_np = np.array(yes_probs)  # Convert to numpy array\n",
        "  reshaped_output = np.reshape(output_np, (-1, 4))  # Reshape to (-1, 4)\n",
        "\n",
        "else:\n",
        "  output_np = np.array(yes_logits)  # Convert to numpy array\n",
        "  reshaped_output = np.reshape(output_np, (-1, 4))  # Reshape to (-1, 4)\n",
        "  probs_output = np.apply_along_axis(softmax, 1, reshaped_output)"
      ]
    },
    {
      "cell_type": "code",
      "execution_count": null,
      "metadata": {
        "id": "vwwtkN2QdHNP"
      },
      "outputs": [],
      "source": [
        "# Assuming `reshaped_output` is your numpy array\n",
        "labels = np.array([\"A\", \"B\", \"C\", \"D\"])  # Define your labels\n",
        "preds = []  # Initialize your list\n",
        "\n",
        "for option_scores in reshaped_output:\n",
        "    pred = labels[np.argsort(option_scores)[::-1][:3]]  # Sort the scores, select the top 3, and map to labels\n",
        "    pred = ' '.join(pred)  # Join the labels into a string\n",
        "    preds.append(pred)  # Append the result to the list"
      ]
    },
    {
      "cell_type": "code",
      "execution_count": null,
      "metadata": {
        "colab": {
          "base_uri": "https://localhost:8080/"
        },
        "id": "r8m6BQNbnVUW",
        "outputId": "fb861390-1e46-4d9a-ae81-298879dba0fc"
      },
      "outputs": [
        {
          "output_type": "stream",
          "name": "stdout",
          "text": [
            "Sample Question Result:\n",
            "\n",
            "True Answer: A\n",
            "Answer Prediction: A\n",
            "Logits: [13.875  10.9375 12.875  13.8125]\n",
            "Probabilities: [0.42367665 0.02245404 0.15586193 0.39800738]\n"
          ]
        }
      ],
      "source": [
        "print(\"Sample Question Result:\\n\")\n",
        "print(f\"True Answer: {df['answer'].values[0]}\")\n",
        "print(f'Answer Prediction: {first_preds[0]}')\n",
        "if not local_yes_prob:\n",
        "  print(f'Yes Logits: {reshaped_output[0]}')\n",
        "  print(f'Probabilities: {probs_output[0]}')\n",
        "else:\n",
        "  print(f'Yes Probabilities: {reshaped_output[0]}')\n"
      ]
    },
    {
      "cell_type": "code",
      "execution_count": null,
      "metadata": {
        "id": "nf3S2VXZdHNQ",
        "outputId": "d97e55a9-c3b4-4b3b-bd43-775286f0bae2",
        "colab": {
          "base_uri": "https://localhost:8080/"
        }
      },
      "outputs": [
        {
          "output_type": "stream",
          "name": "stdout",
          "text": [
            "Accuracy: 78.96%\n"
          ]
        }
      ],
      "source": [
        "# CALCULATE ACCURACY OF PREDICTION\n",
        "\n",
        "# Convert both lists to Series\n",
        "first_preds_series = pd.Series(first_preds, index=df.index)\n",
        "answers_series = df['answer']\n",
        "\n",
        "first_preds_series = first_preds_series.reset_index(drop=True)\n",
        "answers_series = answers_series.reset_index(drop=True)\n",
        "\n",
        "# Calculate the number of correct predictions\n",
        "correct_preds = (first_preds_series == answers_series).sum()\n",
        "\n",
        "# Calculate the accuracy\n",
        "accuracy = correct_preds / len(df)\n",
        "\n",
        "print(f'Accuracy: {accuracy * 100:.2f}%')\n"
      ]
    },
    {
      "cell_type": "code",
      "source": [],
      "metadata": {
        "id": "uVMi3ObX0YmT"
      },
      "execution_count": null,
      "outputs": []
    }
  ],
  "metadata": {
    "accelerator": "GPU",
    "colab": {
      "collapsed_sections": [
        "nA0SpXpw2-B7",
        "32HYY8UW-arQ",
        "cqfaNhbn81Y3"
      ],
      "gpuType": "L4",
      "machine_shape": "hm",
      "provenance": []
    },
    "kernelspec": {
      "display_name": "Python 3",
      "name": "python3"
    },
    "language_info": {
      "codemirror_mode": {
        "name": "ipython",
        "version": 3
      },
      "file_extension": ".py",
      "mimetype": "text/x-python",
      "name": "python",
      "nbconvert_exporter": "python",
      "pygments_lexer": "ipython3",
      "version": "3.10.12"
    },
    "widgets": {
      "application/vnd.jupyter.widget-state+json": {
        "d253f3007b914e93a2c1ebc52cce99e6": {
          "model_module": "@jupyter-widgets/controls",
          "model_name": "HBoxModel",
          "model_module_version": "1.5.0",
          "state": {
            "_dom_classes": [],
            "_model_module": "@jupyter-widgets/controls",
            "_model_module_version": "1.5.0",
            "_model_name": "HBoxModel",
            "_view_count": null,
            "_view_module": "@jupyter-widgets/controls",
            "_view_module_version": "1.5.0",
            "_view_name": "HBoxView",
            "box_style": "",
            "children": [
              "IPY_MODEL_c4c4d202fdf0422ea3800d770e8cc8aa",
              "IPY_MODEL_4b61d54434024cffae75fc2f112ff7b7",
              "IPY_MODEL_9a57ba1a74014b2fa079a2d17f6320b5"
            ],
            "layout": "IPY_MODEL_de3c1984d6f14b4c8f7f8cd152cc9ba4"
          }
        },
        "c4c4d202fdf0422ea3800d770e8cc8aa": {
          "model_module": "@jupyter-widgets/controls",
          "model_name": "HTMLModel",
          "model_module_version": "1.5.0",
          "state": {
            "_dom_classes": [],
            "_model_module": "@jupyter-widgets/controls",
            "_model_module_version": "1.5.0",
            "_model_name": "HTMLModel",
            "_view_count": null,
            "_view_module": "@jupyter-widgets/controls",
            "_view_module_version": "1.5.0",
            "_view_name": "HTMLView",
            "description": "",
            "description_tooltip": null,
            "layout": "IPY_MODEL_d5e6efb7997f4308b96ebda55e4cf851",
            "placeholder": "​",
            "style": "IPY_MODEL_4bb27ddb480848159032554597ae98be",
            "value": "config.json: 100%"
          }
        },
        "4b61d54434024cffae75fc2f112ff7b7": {
          "model_module": "@jupyter-widgets/controls",
          "model_name": "FloatProgressModel",
          "model_module_version": "1.5.0",
          "state": {
            "_dom_classes": [],
            "_model_module": "@jupyter-widgets/controls",
            "_model_module_version": "1.5.0",
            "_model_name": "FloatProgressModel",
            "_view_count": null,
            "_view_module": "@jupyter-widgets/controls",
            "_view_module_version": "1.5.0",
            "_view_name": "ProgressView",
            "bar_style": "success",
            "description": "",
            "description_tooltip": null,
            "layout": "IPY_MODEL_6796a7e2a00d4f169beb1f62db32abfe",
            "max": 507,
            "min": 0,
            "orientation": "horizontal",
            "style": "IPY_MODEL_1b35986a5043497c9a740aad35291124",
            "value": 507
          }
        },
        "9a57ba1a74014b2fa079a2d17f6320b5": {
          "model_module": "@jupyter-widgets/controls",
          "model_name": "HTMLModel",
          "model_module_version": "1.5.0",
          "state": {
            "_dom_classes": [],
            "_model_module": "@jupyter-widgets/controls",
            "_model_module_version": "1.5.0",
            "_model_name": "HTMLModel",
            "_view_count": null,
            "_view_module": "@jupyter-widgets/controls",
            "_view_module_version": "1.5.0",
            "_view_name": "HTMLView",
            "description": "",
            "description_tooltip": null,
            "layout": "IPY_MODEL_f447fffa0c9b4dfbb036e3700b0dcbef",
            "placeholder": "​",
            "style": "IPY_MODEL_ff216f6417f345c991a1b220dbb8f692",
            "value": " 507/507 [00:00&lt;00:00, 42.6kB/s]"
          }
        },
        "de3c1984d6f14b4c8f7f8cd152cc9ba4": {
          "model_module": "@jupyter-widgets/base",
          "model_name": "LayoutModel",
          "model_module_version": "1.2.0",
          "state": {
            "_model_module": "@jupyter-widgets/base",
            "_model_module_version": "1.2.0",
            "_model_name": "LayoutModel",
            "_view_count": null,
            "_view_module": "@jupyter-widgets/base",
            "_view_module_version": "1.2.0",
            "_view_name": "LayoutView",
            "align_content": null,
            "align_items": null,
            "align_self": null,
            "border": null,
            "bottom": null,
            "display": null,
            "flex": null,
            "flex_flow": null,
            "grid_area": null,
            "grid_auto_columns": null,
            "grid_auto_flow": null,
            "grid_auto_rows": null,
            "grid_column": null,
            "grid_gap": null,
            "grid_row": null,
            "grid_template_areas": null,
            "grid_template_columns": null,
            "grid_template_rows": null,
            "height": null,
            "justify_content": null,
            "justify_items": null,
            "left": null,
            "margin": null,
            "max_height": null,
            "max_width": null,
            "min_height": null,
            "min_width": null,
            "object_fit": null,
            "object_position": null,
            "order": null,
            "overflow": null,
            "overflow_x": null,
            "overflow_y": null,
            "padding": null,
            "right": null,
            "top": null,
            "visibility": null,
            "width": null
          }
        },
        "d5e6efb7997f4308b96ebda55e4cf851": {
          "model_module": "@jupyter-widgets/base",
          "model_name": "LayoutModel",
          "model_module_version": "1.2.0",
          "state": {
            "_model_module": "@jupyter-widgets/base",
            "_model_module_version": "1.2.0",
            "_model_name": "LayoutModel",
            "_view_count": null,
            "_view_module": "@jupyter-widgets/base",
            "_view_module_version": "1.2.0",
            "_view_name": "LayoutView",
            "align_content": null,
            "align_items": null,
            "align_self": null,
            "border": null,
            "bottom": null,
            "display": null,
            "flex": null,
            "flex_flow": null,
            "grid_area": null,
            "grid_auto_columns": null,
            "grid_auto_flow": null,
            "grid_auto_rows": null,
            "grid_column": null,
            "grid_gap": null,
            "grid_row": null,
            "grid_template_areas": null,
            "grid_template_columns": null,
            "grid_template_rows": null,
            "height": null,
            "justify_content": null,
            "justify_items": null,
            "left": null,
            "margin": null,
            "max_height": null,
            "max_width": null,
            "min_height": null,
            "min_width": null,
            "object_fit": null,
            "object_position": null,
            "order": null,
            "overflow": null,
            "overflow_x": null,
            "overflow_y": null,
            "padding": null,
            "right": null,
            "top": null,
            "visibility": null,
            "width": null
          }
        },
        "4bb27ddb480848159032554597ae98be": {
          "model_module": "@jupyter-widgets/controls",
          "model_name": "DescriptionStyleModel",
          "model_module_version": "1.5.0",
          "state": {
            "_model_module": "@jupyter-widgets/controls",
            "_model_module_version": "1.5.0",
            "_model_name": "DescriptionStyleModel",
            "_view_count": null,
            "_view_module": "@jupyter-widgets/base",
            "_view_module_version": "1.2.0",
            "_view_name": "StyleView",
            "description_width": ""
          }
        },
        "6796a7e2a00d4f169beb1f62db32abfe": {
          "model_module": "@jupyter-widgets/base",
          "model_name": "LayoutModel",
          "model_module_version": "1.2.0",
          "state": {
            "_model_module": "@jupyter-widgets/base",
            "_model_module_version": "1.2.0",
            "_model_name": "LayoutModel",
            "_view_count": null,
            "_view_module": "@jupyter-widgets/base",
            "_view_module_version": "1.2.0",
            "_view_name": "LayoutView",
            "align_content": null,
            "align_items": null,
            "align_self": null,
            "border": null,
            "bottom": null,
            "display": null,
            "flex": null,
            "flex_flow": null,
            "grid_area": null,
            "grid_auto_columns": null,
            "grid_auto_flow": null,
            "grid_auto_rows": null,
            "grid_column": null,
            "grid_gap": null,
            "grid_row": null,
            "grid_template_areas": null,
            "grid_template_columns": null,
            "grid_template_rows": null,
            "height": null,
            "justify_content": null,
            "justify_items": null,
            "left": null,
            "margin": null,
            "max_height": null,
            "max_width": null,
            "min_height": null,
            "min_width": null,
            "object_fit": null,
            "object_position": null,
            "order": null,
            "overflow": null,
            "overflow_x": null,
            "overflow_y": null,
            "padding": null,
            "right": null,
            "top": null,
            "visibility": null,
            "width": null
          }
        },
        "1b35986a5043497c9a740aad35291124": {
          "model_module": "@jupyter-widgets/controls",
          "model_name": "ProgressStyleModel",
          "model_module_version": "1.5.0",
          "state": {
            "_model_module": "@jupyter-widgets/controls",
            "_model_module_version": "1.5.0",
            "_model_name": "ProgressStyleModel",
            "_view_count": null,
            "_view_module": "@jupyter-widgets/base",
            "_view_module_version": "1.2.0",
            "_view_name": "StyleView",
            "bar_color": null,
            "description_width": ""
          }
        },
        "f447fffa0c9b4dfbb036e3700b0dcbef": {
          "model_module": "@jupyter-widgets/base",
          "model_name": "LayoutModel",
          "model_module_version": "1.2.0",
          "state": {
            "_model_module": "@jupyter-widgets/base",
            "_model_module_version": "1.2.0",
            "_model_name": "LayoutModel",
            "_view_count": null,
            "_view_module": "@jupyter-widgets/base",
            "_view_module_version": "1.2.0",
            "_view_name": "LayoutView",
            "align_content": null,
            "align_items": null,
            "align_self": null,
            "border": null,
            "bottom": null,
            "display": null,
            "flex": null,
            "flex_flow": null,
            "grid_area": null,
            "grid_auto_columns": null,
            "grid_auto_flow": null,
            "grid_auto_rows": null,
            "grid_column": null,
            "grid_gap": null,
            "grid_row": null,
            "grid_template_areas": null,
            "grid_template_columns": null,
            "grid_template_rows": null,
            "height": null,
            "justify_content": null,
            "justify_items": null,
            "left": null,
            "margin": null,
            "max_height": null,
            "max_width": null,
            "min_height": null,
            "min_width": null,
            "object_fit": null,
            "object_position": null,
            "order": null,
            "overflow": null,
            "overflow_x": null,
            "overflow_y": null,
            "padding": null,
            "right": null,
            "top": null,
            "visibility": null,
            "width": null
          }
        },
        "ff216f6417f345c991a1b220dbb8f692": {
          "model_module": "@jupyter-widgets/controls",
          "model_name": "DescriptionStyleModel",
          "model_module_version": "1.5.0",
          "state": {
            "_model_module": "@jupyter-widgets/controls",
            "_model_module_version": "1.5.0",
            "_model_name": "DescriptionStyleModel",
            "_view_count": null,
            "_view_module": "@jupyter-widgets/base",
            "_view_module_version": "1.2.0",
            "_view_name": "StyleView",
            "description_width": ""
          }
        },
        "dfbc0a472c3d43d3a9d8f65b0e4aeef5": {
          "model_module": "@jupyter-widgets/controls",
          "model_name": "HBoxModel",
          "model_module_version": "1.5.0",
          "state": {
            "_dom_classes": [],
            "_model_module": "@jupyter-widgets/controls",
            "_model_module_version": "1.5.0",
            "_model_name": "HBoxModel",
            "_view_count": null,
            "_view_module": "@jupyter-widgets/controls",
            "_view_module_version": "1.5.0",
            "_view_name": "HBoxView",
            "box_style": "",
            "children": [
              "IPY_MODEL_53226d1acffd483d91f439c7d4b1d053",
              "IPY_MODEL_dc80ca45eb9742359d9a846ca6d5c0b2",
              "IPY_MODEL_2f0b33416cea47a4b8d1f8c31c910a77"
            ],
            "layout": "IPY_MODEL_58c60cafc81540808918880983d06415"
          }
        },
        "53226d1acffd483d91f439c7d4b1d053": {
          "model_module": "@jupyter-widgets/controls",
          "model_name": "HTMLModel",
          "model_module_version": "1.5.0",
          "state": {
            "_dom_classes": [],
            "_model_module": "@jupyter-widgets/controls",
            "_model_module_version": "1.5.0",
            "_model_name": "HTMLModel",
            "_view_count": null,
            "_view_module": "@jupyter-widgets/controls",
            "_view_module_version": "1.5.0",
            "_view_name": "HTMLView",
            "description": "",
            "description_tooltip": null,
            "layout": "IPY_MODEL_6947258459724077ad8dd55ac0557a65",
            "placeholder": "​",
            "style": "IPY_MODEL_cca496f6a7c1483e8b7d2bb51f5f069e",
            "value": "pytorch_model.bin.index.json: 100%"
          }
        },
        "dc80ca45eb9742359d9a846ca6d5c0b2": {
          "model_module": "@jupyter-widgets/controls",
          "model_name": "FloatProgressModel",
          "model_module_version": "1.5.0",
          "state": {
            "_dom_classes": [],
            "_model_module": "@jupyter-widgets/controls",
            "_model_module_version": "1.5.0",
            "_model_name": "FloatProgressModel",
            "_view_count": null,
            "_view_module": "@jupyter-widgets/controls",
            "_view_module_version": "1.5.0",
            "_view_name": "ProgressView",
            "bar_style": "success",
            "description": "",
            "description_tooltip": null,
            "layout": "IPY_MODEL_195e2f9bdb6645bda93484c84b102140",
            "max": 26788,
            "min": 0,
            "orientation": "horizontal",
            "style": "IPY_MODEL_19eac73381554af1b86bfa852f81e676",
            "value": 26788
          }
        },
        "2f0b33416cea47a4b8d1f8c31c910a77": {
          "model_module": "@jupyter-widgets/controls",
          "model_name": "HTMLModel",
          "model_module_version": "1.5.0",
          "state": {
            "_dom_classes": [],
            "_model_module": "@jupyter-widgets/controls",
            "_model_module_version": "1.5.0",
            "_model_name": "HTMLModel",
            "_view_count": null,
            "_view_module": "@jupyter-widgets/controls",
            "_view_module_version": "1.5.0",
            "_view_name": "HTMLView",
            "description": "",
            "description_tooltip": null,
            "layout": "IPY_MODEL_42e3d647b5644fbface6599595ed0674",
            "placeholder": "​",
            "style": "IPY_MODEL_2aecdb82cfbb452c803aad1d71a02b6e",
            "value": " 26.8k/26.8k [00:00&lt;00:00, 2.32MB/s]"
          }
        },
        "58c60cafc81540808918880983d06415": {
          "model_module": "@jupyter-widgets/base",
          "model_name": "LayoutModel",
          "model_module_version": "1.2.0",
          "state": {
            "_model_module": "@jupyter-widgets/base",
            "_model_module_version": "1.2.0",
            "_model_name": "LayoutModel",
            "_view_count": null,
            "_view_module": "@jupyter-widgets/base",
            "_view_module_version": "1.2.0",
            "_view_name": "LayoutView",
            "align_content": null,
            "align_items": null,
            "align_self": null,
            "border": null,
            "bottom": null,
            "display": null,
            "flex": null,
            "flex_flow": null,
            "grid_area": null,
            "grid_auto_columns": null,
            "grid_auto_flow": null,
            "grid_auto_rows": null,
            "grid_column": null,
            "grid_gap": null,
            "grid_row": null,
            "grid_template_areas": null,
            "grid_template_columns": null,
            "grid_template_rows": null,
            "height": null,
            "justify_content": null,
            "justify_items": null,
            "left": null,
            "margin": null,
            "max_height": null,
            "max_width": null,
            "min_height": null,
            "min_width": null,
            "object_fit": null,
            "object_position": null,
            "order": null,
            "overflow": null,
            "overflow_x": null,
            "overflow_y": null,
            "padding": null,
            "right": null,
            "top": null,
            "visibility": null,
            "width": null
          }
        },
        "6947258459724077ad8dd55ac0557a65": {
          "model_module": "@jupyter-widgets/base",
          "model_name": "LayoutModel",
          "model_module_version": "1.2.0",
          "state": {
            "_model_module": "@jupyter-widgets/base",
            "_model_module_version": "1.2.0",
            "_model_name": "LayoutModel",
            "_view_count": null,
            "_view_module": "@jupyter-widgets/base",
            "_view_module_version": "1.2.0",
            "_view_name": "LayoutView",
            "align_content": null,
            "align_items": null,
            "align_self": null,
            "border": null,
            "bottom": null,
            "display": null,
            "flex": null,
            "flex_flow": null,
            "grid_area": null,
            "grid_auto_columns": null,
            "grid_auto_flow": null,
            "grid_auto_rows": null,
            "grid_column": null,
            "grid_gap": null,
            "grid_row": null,
            "grid_template_areas": null,
            "grid_template_columns": null,
            "grid_template_rows": null,
            "height": null,
            "justify_content": null,
            "justify_items": null,
            "left": null,
            "margin": null,
            "max_height": null,
            "max_width": null,
            "min_height": null,
            "min_width": null,
            "object_fit": null,
            "object_position": null,
            "order": null,
            "overflow": null,
            "overflow_x": null,
            "overflow_y": null,
            "padding": null,
            "right": null,
            "top": null,
            "visibility": null,
            "width": null
          }
        },
        "cca496f6a7c1483e8b7d2bb51f5f069e": {
          "model_module": "@jupyter-widgets/controls",
          "model_name": "DescriptionStyleModel",
          "model_module_version": "1.5.0",
          "state": {
            "_model_module": "@jupyter-widgets/controls",
            "_model_module_version": "1.5.0",
            "_model_name": "DescriptionStyleModel",
            "_view_count": null,
            "_view_module": "@jupyter-widgets/base",
            "_view_module_version": "1.2.0",
            "_view_name": "StyleView",
            "description_width": ""
          }
        },
        "195e2f9bdb6645bda93484c84b102140": {
          "model_module": "@jupyter-widgets/base",
          "model_name": "LayoutModel",
          "model_module_version": "1.2.0",
          "state": {
            "_model_module": "@jupyter-widgets/base",
            "_model_module_version": "1.2.0",
            "_model_name": "LayoutModel",
            "_view_count": null,
            "_view_module": "@jupyter-widgets/base",
            "_view_module_version": "1.2.0",
            "_view_name": "LayoutView",
            "align_content": null,
            "align_items": null,
            "align_self": null,
            "border": null,
            "bottom": null,
            "display": null,
            "flex": null,
            "flex_flow": null,
            "grid_area": null,
            "grid_auto_columns": null,
            "grid_auto_flow": null,
            "grid_auto_rows": null,
            "grid_column": null,
            "grid_gap": null,
            "grid_row": null,
            "grid_template_areas": null,
            "grid_template_columns": null,
            "grid_template_rows": null,
            "height": null,
            "justify_content": null,
            "justify_items": null,
            "left": null,
            "margin": null,
            "max_height": null,
            "max_width": null,
            "min_height": null,
            "min_width": null,
            "object_fit": null,
            "object_position": null,
            "order": null,
            "overflow": null,
            "overflow_x": null,
            "overflow_y": null,
            "padding": null,
            "right": null,
            "top": null,
            "visibility": null,
            "width": null
          }
        },
        "19eac73381554af1b86bfa852f81e676": {
          "model_module": "@jupyter-widgets/controls",
          "model_name": "ProgressStyleModel",
          "model_module_version": "1.5.0",
          "state": {
            "_model_module": "@jupyter-widgets/controls",
            "_model_module_version": "1.5.0",
            "_model_name": "ProgressStyleModel",
            "_view_count": null,
            "_view_module": "@jupyter-widgets/base",
            "_view_module_version": "1.2.0",
            "_view_name": "StyleView",
            "bar_color": null,
            "description_width": ""
          }
        },
        "42e3d647b5644fbface6599595ed0674": {
          "model_module": "@jupyter-widgets/base",
          "model_name": "LayoutModel",
          "model_module_version": "1.2.0",
          "state": {
            "_model_module": "@jupyter-widgets/base",
            "_model_module_version": "1.2.0",
            "_model_name": "LayoutModel",
            "_view_count": null,
            "_view_module": "@jupyter-widgets/base",
            "_view_module_version": "1.2.0",
            "_view_name": "LayoutView",
            "align_content": null,
            "align_items": null,
            "align_self": null,
            "border": null,
            "bottom": null,
            "display": null,
            "flex": null,
            "flex_flow": null,
            "grid_area": null,
            "grid_auto_columns": null,
            "grid_auto_flow": null,
            "grid_auto_rows": null,
            "grid_column": null,
            "grid_gap": null,
            "grid_row": null,
            "grid_template_areas": null,
            "grid_template_columns": null,
            "grid_template_rows": null,
            "height": null,
            "justify_content": null,
            "justify_items": null,
            "left": null,
            "margin": null,
            "max_height": null,
            "max_width": null,
            "min_height": null,
            "min_width": null,
            "object_fit": null,
            "object_position": null,
            "order": null,
            "overflow": null,
            "overflow_x": null,
            "overflow_y": null,
            "padding": null,
            "right": null,
            "top": null,
            "visibility": null,
            "width": null
          }
        },
        "2aecdb82cfbb452c803aad1d71a02b6e": {
          "model_module": "@jupyter-widgets/controls",
          "model_name": "DescriptionStyleModel",
          "model_module_version": "1.5.0",
          "state": {
            "_model_module": "@jupyter-widgets/controls",
            "_model_module_version": "1.5.0",
            "_model_name": "DescriptionStyleModel",
            "_view_count": null,
            "_view_module": "@jupyter-widgets/base",
            "_view_module_version": "1.2.0",
            "_view_name": "StyleView",
            "description_width": ""
          }
        },
        "8ea7d15d66894ef8bdcf37789070cfd4": {
          "model_module": "@jupyter-widgets/controls",
          "model_name": "HBoxModel",
          "model_module_version": "1.5.0",
          "state": {
            "_dom_classes": [],
            "_model_module": "@jupyter-widgets/controls",
            "_model_module_version": "1.5.0",
            "_model_name": "HBoxModel",
            "_view_count": null,
            "_view_module": "@jupyter-widgets/controls",
            "_view_module_version": "1.5.0",
            "_view_name": "HBoxView",
            "box_style": "",
            "children": [
              "IPY_MODEL_36e7b7fde674474a883084e802ebedf8",
              "IPY_MODEL_0d71299aefb0460c9d5322693276704e",
              "IPY_MODEL_795fa990ed0641cba572c191bb06d7f5"
            ],
            "layout": "IPY_MODEL_a0f4fa9bfeec48e1b70af7ad00dfc3fe"
          }
        },
        "36e7b7fde674474a883084e802ebedf8": {
          "model_module": "@jupyter-widgets/controls",
          "model_name": "HTMLModel",
          "model_module_version": "1.5.0",
          "state": {
            "_dom_classes": [],
            "_model_module": "@jupyter-widgets/controls",
            "_model_module_version": "1.5.0",
            "_model_name": "HTMLModel",
            "_view_count": null,
            "_view_module": "@jupyter-widgets/controls",
            "_view_module_version": "1.5.0",
            "_view_name": "HTMLView",
            "description": "",
            "description_tooltip": null,
            "layout": "IPY_MODEL_c6f18e024a544bc984c5f9724ce1bb0c",
            "placeholder": "​",
            "style": "IPY_MODEL_130fdc393977463b8d80eb6ba6c7b134",
            "value": "Downloading shards: 100%"
          }
        },
        "0d71299aefb0460c9d5322693276704e": {
          "model_module": "@jupyter-widgets/controls",
          "model_name": "FloatProgressModel",
          "model_module_version": "1.5.0",
          "state": {
            "_dom_classes": [],
            "_model_module": "@jupyter-widgets/controls",
            "_model_module_version": "1.5.0",
            "_model_name": "FloatProgressModel",
            "_view_count": null,
            "_view_module": "@jupyter-widgets/controls",
            "_view_module_version": "1.5.0",
            "_view_name": "ProgressView",
            "bar_style": "success",
            "description": "",
            "description_tooltip": null,
            "layout": "IPY_MODEL_6f894823a0094a1aba32731aa5418f77",
            "max": 2,
            "min": 0,
            "orientation": "horizontal",
            "style": "IPY_MODEL_8122c8adb3ad452b9cc4bc7d757af64d",
            "value": 2
          }
        },
        "795fa990ed0641cba572c191bb06d7f5": {
          "model_module": "@jupyter-widgets/controls",
          "model_name": "HTMLModel",
          "model_module_version": "1.5.0",
          "state": {
            "_dom_classes": [],
            "_model_module": "@jupyter-widgets/controls",
            "_model_module_version": "1.5.0",
            "_model_name": "HTMLModel",
            "_view_count": null,
            "_view_module": "@jupyter-widgets/controls",
            "_view_module_version": "1.5.0",
            "_view_name": "HTMLView",
            "description": "",
            "description_tooltip": null,
            "layout": "IPY_MODEL_081a80288d554007948bf4b923169597",
            "placeholder": "​",
            "style": "IPY_MODEL_064037ca0b00476e9849a55b0d0e8724",
            "value": " 2/2 [00:38&lt;00:00, 17.41s/it]"
          }
        },
        "a0f4fa9bfeec48e1b70af7ad00dfc3fe": {
          "model_module": "@jupyter-widgets/base",
          "model_name": "LayoutModel",
          "model_module_version": "1.2.0",
          "state": {
            "_model_module": "@jupyter-widgets/base",
            "_model_module_version": "1.2.0",
            "_model_name": "LayoutModel",
            "_view_count": null,
            "_view_module": "@jupyter-widgets/base",
            "_view_module_version": "1.2.0",
            "_view_name": "LayoutView",
            "align_content": null,
            "align_items": null,
            "align_self": null,
            "border": null,
            "bottom": null,
            "display": null,
            "flex": null,
            "flex_flow": null,
            "grid_area": null,
            "grid_auto_columns": null,
            "grid_auto_flow": null,
            "grid_auto_rows": null,
            "grid_column": null,
            "grid_gap": null,
            "grid_row": null,
            "grid_template_areas": null,
            "grid_template_columns": null,
            "grid_template_rows": null,
            "height": null,
            "justify_content": null,
            "justify_items": null,
            "left": null,
            "margin": null,
            "max_height": null,
            "max_width": null,
            "min_height": null,
            "min_width": null,
            "object_fit": null,
            "object_position": null,
            "order": null,
            "overflow": null,
            "overflow_x": null,
            "overflow_y": null,
            "padding": null,
            "right": null,
            "top": null,
            "visibility": null,
            "width": null
          }
        },
        "c6f18e024a544bc984c5f9724ce1bb0c": {
          "model_module": "@jupyter-widgets/base",
          "model_name": "LayoutModel",
          "model_module_version": "1.2.0",
          "state": {
            "_model_module": "@jupyter-widgets/base",
            "_model_module_version": "1.2.0",
            "_model_name": "LayoutModel",
            "_view_count": null,
            "_view_module": "@jupyter-widgets/base",
            "_view_module_version": "1.2.0",
            "_view_name": "LayoutView",
            "align_content": null,
            "align_items": null,
            "align_self": null,
            "border": null,
            "bottom": null,
            "display": null,
            "flex": null,
            "flex_flow": null,
            "grid_area": null,
            "grid_auto_columns": null,
            "grid_auto_flow": null,
            "grid_auto_rows": null,
            "grid_column": null,
            "grid_gap": null,
            "grid_row": null,
            "grid_template_areas": null,
            "grid_template_columns": null,
            "grid_template_rows": null,
            "height": null,
            "justify_content": null,
            "justify_items": null,
            "left": null,
            "margin": null,
            "max_height": null,
            "max_width": null,
            "min_height": null,
            "min_width": null,
            "object_fit": null,
            "object_position": null,
            "order": null,
            "overflow": null,
            "overflow_x": null,
            "overflow_y": null,
            "padding": null,
            "right": null,
            "top": null,
            "visibility": null,
            "width": null
          }
        },
        "130fdc393977463b8d80eb6ba6c7b134": {
          "model_module": "@jupyter-widgets/controls",
          "model_name": "DescriptionStyleModel",
          "model_module_version": "1.5.0",
          "state": {
            "_model_module": "@jupyter-widgets/controls",
            "_model_module_version": "1.5.0",
            "_model_name": "DescriptionStyleModel",
            "_view_count": null,
            "_view_module": "@jupyter-widgets/base",
            "_view_module_version": "1.2.0",
            "_view_name": "StyleView",
            "description_width": ""
          }
        },
        "6f894823a0094a1aba32731aa5418f77": {
          "model_module": "@jupyter-widgets/base",
          "model_name": "LayoutModel",
          "model_module_version": "1.2.0",
          "state": {
            "_model_module": "@jupyter-widgets/base",
            "_model_module_version": "1.2.0",
            "_model_name": "LayoutModel",
            "_view_count": null,
            "_view_module": "@jupyter-widgets/base",
            "_view_module_version": "1.2.0",
            "_view_name": "LayoutView",
            "align_content": null,
            "align_items": null,
            "align_self": null,
            "border": null,
            "bottom": null,
            "display": null,
            "flex": null,
            "flex_flow": null,
            "grid_area": null,
            "grid_auto_columns": null,
            "grid_auto_flow": null,
            "grid_auto_rows": null,
            "grid_column": null,
            "grid_gap": null,
            "grid_row": null,
            "grid_template_areas": null,
            "grid_template_columns": null,
            "grid_template_rows": null,
            "height": null,
            "justify_content": null,
            "justify_items": null,
            "left": null,
            "margin": null,
            "max_height": null,
            "max_width": null,
            "min_height": null,
            "min_width": null,
            "object_fit": null,
            "object_position": null,
            "order": null,
            "overflow": null,
            "overflow_x": null,
            "overflow_y": null,
            "padding": null,
            "right": null,
            "top": null,
            "visibility": null,
            "width": null
          }
        },
        "8122c8adb3ad452b9cc4bc7d757af64d": {
          "model_module": "@jupyter-widgets/controls",
          "model_name": "ProgressStyleModel",
          "model_module_version": "1.5.0",
          "state": {
            "_model_module": "@jupyter-widgets/controls",
            "_model_module_version": "1.5.0",
            "_model_name": "ProgressStyleModel",
            "_view_count": null,
            "_view_module": "@jupyter-widgets/base",
            "_view_module_version": "1.2.0",
            "_view_name": "StyleView",
            "bar_color": null,
            "description_width": ""
          }
        },
        "081a80288d554007948bf4b923169597": {
          "model_module": "@jupyter-widgets/base",
          "model_name": "LayoutModel",
          "model_module_version": "1.2.0",
          "state": {
            "_model_module": "@jupyter-widgets/base",
            "_model_module_version": "1.2.0",
            "_model_name": "LayoutModel",
            "_view_count": null,
            "_view_module": "@jupyter-widgets/base",
            "_view_module_version": "1.2.0",
            "_view_name": "LayoutView",
            "align_content": null,
            "align_items": null,
            "align_self": null,
            "border": null,
            "bottom": null,
            "display": null,
            "flex": null,
            "flex_flow": null,
            "grid_area": null,
            "grid_auto_columns": null,
            "grid_auto_flow": null,
            "grid_auto_rows": null,
            "grid_column": null,
            "grid_gap": null,
            "grid_row": null,
            "grid_template_areas": null,
            "grid_template_columns": null,
            "grid_template_rows": null,
            "height": null,
            "justify_content": null,
            "justify_items": null,
            "left": null,
            "margin": null,
            "max_height": null,
            "max_width": null,
            "min_height": null,
            "min_width": null,
            "object_fit": null,
            "object_position": null,
            "order": null,
            "overflow": null,
            "overflow_x": null,
            "overflow_y": null,
            "padding": null,
            "right": null,
            "top": null,
            "visibility": null,
            "width": null
          }
        },
        "064037ca0b00476e9849a55b0d0e8724": {
          "model_module": "@jupyter-widgets/controls",
          "model_name": "DescriptionStyleModel",
          "model_module_version": "1.5.0",
          "state": {
            "_model_module": "@jupyter-widgets/controls",
            "_model_module_version": "1.5.0",
            "_model_name": "DescriptionStyleModel",
            "_view_count": null,
            "_view_module": "@jupyter-widgets/base",
            "_view_module_version": "1.2.0",
            "_view_name": "StyleView",
            "description_width": ""
          }
        },
        "212dfb7d3f4940bc8da9984710202607": {
          "model_module": "@jupyter-widgets/controls",
          "model_name": "HBoxModel",
          "model_module_version": "1.5.0",
          "state": {
            "_dom_classes": [],
            "_model_module": "@jupyter-widgets/controls",
            "_model_module_version": "1.5.0",
            "_model_name": "HBoxModel",
            "_view_count": null,
            "_view_module": "@jupyter-widgets/controls",
            "_view_module_version": "1.5.0",
            "_view_name": "HBoxView",
            "box_style": "",
            "children": [
              "IPY_MODEL_c04801592a294d3d8f31b29608a82390",
              "IPY_MODEL_21644a00e43d4ba18c91676605d69691",
              "IPY_MODEL_eb2111db5dc9440394c8dedce5ae1071"
            ],
            "layout": "IPY_MODEL_1efd9d6aeea444fcb83dfb4fc9f6811c"
          }
        },
        "c04801592a294d3d8f31b29608a82390": {
          "model_module": "@jupyter-widgets/controls",
          "model_name": "HTMLModel",
          "model_module_version": "1.5.0",
          "state": {
            "_dom_classes": [],
            "_model_module": "@jupyter-widgets/controls",
            "_model_module_version": "1.5.0",
            "_model_name": "HTMLModel",
            "_view_count": null,
            "_view_module": "@jupyter-widgets/controls",
            "_view_module_version": "1.5.0",
            "_view_name": "HTMLView",
            "description": "",
            "description_tooltip": null,
            "layout": "IPY_MODEL_ca9dd781460d406f831162c3f134d41c",
            "placeholder": "​",
            "style": "IPY_MODEL_da4797fbb8624237afc720183e97f248",
            "value": "pytorch_model-00001-of-00002.bin: 100%"
          }
        },
        "21644a00e43d4ba18c91676605d69691": {
          "model_module": "@jupyter-widgets/controls",
          "model_name": "FloatProgressModel",
          "model_module_version": "1.5.0",
          "state": {
            "_dom_classes": [],
            "_model_module": "@jupyter-widgets/controls",
            "_model_module_version": "1.5.0",
            "_model_name": "FloatProgressModel",
            "_view_count": null,
            "_view_module": "@jupyter-widgets/controls",
            "_view_module_version": "1.5.0",
            "_view_name": "ProgressView",
            "bar_style": "success",
            "description": "",
            "description_tooltip": null,
            "layout": "IPY_MODEL_35c7b4892c294032bbb27cb72236e1ea",
            "max": 9976634558,
            "min": 0,
            "orientation": "horizontal",
            "style": "IPY_MODEL_4e6e478e413e4feebadcf09510f59231",
            "value": 9976634558
          }
        },
        "eb2111db5dc9440394c8dedce5ae1071": {
          "model_module": "@jupyter-widgets/controls",
          "model_name": "HTMLModel",
          "model_module_version": "1.5.0",
          "state": {
            "_dom_classes": [],
            "_model_module": "@jupyter-widgets/controls",
            "_model_module_version": "1.5.0",
            "_model_name": "HTMLModel",
            "_view_count": null,
            "_view_module": "@jupyter-widgets/controls",
            "_view_module_version": "1.5.0",
            "_view_name": "HTMLView",
            "description": "",
            "description_tooltip": null,
            "layout": "IPY_MODEL_afeab67908da4f6ebc7e8353cad9bc42",
            "placeholder": "​",
            "style": "IPY_MODEL_29adffb067a841be972defa016727d49",
            "value": " 9.98G/9.98G [00:28&lt;00:00, 402MB/s]"
          }
        },
        "1efd9d6aeea444fcb83dfb4fc9f6811c": {
          "model_module": "@jupyter-widgets/base",
          "model_name": "LayoutModel",
          "model_module_version": "1.2.0",
          "state": {
            "_model_module": "@jupyter-widgets/base",
            "_model_module_version": "1.2.0",
            "_model_name": "LayoutModel",
            "_view_count": null,
            "_view_module": "@jupyter-widgets/base",
            "_view_module_version": "1.2.0",
            "_view_name": "LayoutView",
            "align_content": null,
            "align_items": null,
            "align_self": null,
            "border": null,
            "bottom": null,
            "display": null,
            "flex": null,
            "flex_flow": null,
            "grid_area": null,
            "grid_auto_columns": null,
            "grid_auto_flow": null,
            "grid_auto_rows": null,
            "grid_column": null,
            "grid_gap": null,
            "grid_row": null,
            "grid_template_areas": null,
            "grid_template_columns": null,
            "grid_template_rows": null,
            "height": null,
            "justify_content": null,
            "justify_items": null,
            "left": null,
            "margin": null,
            "max_height": null,
            "max_width": null,
            "min_height": null,
            "min_width": null,
            "object_fit": null,
            "object_position": null,
            "order": null,
            "overflow": null,
            "overflow_x": null,
            "overflow_y": null,
            "padding": null,
            "right": null,
            "top": null,
            "visibility": null,
            "width": null
          }
        },
        "ca9dd781460d406f831162c3f134d41c": {
          "model_module": "@jupyter-widgets/base",
          "model_name": "LayoutModel",
          "model_module_version": "1.2.0",
          "state": {
            "_model_module": "@jupyter-widgets/base",
            "_model_module_version": "1.2.0",
            "_model_name": "LayoutModel",
            "_view_count": null,
            "_view_module": "@jupyter-widgets/base",
            "_view_module_version": "1.2.0",
            "_view_name": "LayoutView",
            "align_content": null,
            "align_items": null,
            "align_self": null,
            "border": null,
            "bottom": null,
            "display": null,
            "flex": null,
            "flex_flow": null,
            "grid_area": null,
            "grid_auto_columns": null,
            "grid_auto_flow": null,
            "grid_auto_rows": null,
            "grid_column": null,
            "grid_gap": null,
            "grid_row": null,
            "grid_template_areas": null,
            "grid_template_columns": null,
            "grid_template_rows": null,
            "height": null,
            "justify_content": null,
            "justify_items": null,
            "left": null,
            "margin": null,
            "max_height": null,
            "max_width": null,
            "min_height": null,
            "min_width": null,
            "object_fit": null,
            "object_position": null,
            "order": null,
            "overflow": null,
            "overflow_x": null,
            "overflow_y": null,
            "padding": null,
            "right": null,
            "top": null,
            "visibility": null,
            "width": null
          }
        },
        "da4797fbb8624237afc720183e97f248": {
          "model_module": "@jupyter-widgets/controls",
          "model_name": "DescriptionStyleModel",
          "model_module_version": "1.5.0",
          "state": {
            "_model_module": "@jupyter-widgets/controls",
            "_model_module_version": "1.5.0",
            "_model_name": "DescriptionStyleModel",
            "_view_count": null,
            "_view_module": "@jupyter-widgets/base",
            "_view_module_version": "1.2.0",
            "_view_name": "StyleView",
            "description_width": ""
          }
        },
        "35c7b4892c294032bbb27cb72236e1ea": {
          "model_module": "@jupyter-widgets/base",
          "model_name": "LayoutModel",
          "model_module_version": "1.2.0",
          "state": {
            "_model_module": "@jupyter-widgets/base",
            "_model_module_version": "1.2.0",
            "_model_name": "LayoutModel",
            "_view_count": null,
            "_view_module": "@jupyter-widgets/base",
            "_view_module_version": "1.2.0",
            "_view_name": "LayoutView",
            "align_content": null,
            "align_items": null,
            "align_self": null,
            "border": null,
            "bottom": null,
            "display": null,
            "flex": null,
            "flex_flow": null,
            "grid_area": null,
            "grid_auto_columns": null,
            "grid_auto_flow": null,
            "grid_auto_rows": null,
            "grid_column": null,
            "grid_gap": null,
            "grid_row": null,
            "grid_template_areas": null,
            "grid_template_columns": null,
            "grid_template_rows": null,
            "height": null,
            "justify_content": null,
            "justify_items": null,
            "left": null,
            "margin": null,
            "max_height": null,
            "max_width": null,
            "min_height": null,
            "min_width": null,
            "object_fit": null,
            "object_position": null,
            "order": null,
            "overflow": null,
            "overflow_x": null,
            "overflow_y": null,
            "padding": null,
            "right": null,
            "top": null,
            "visibility": null,
            "width": null
          }
        },
        "4e6e478e413e4feebadcf09510f59231": {
          "model_module": "@jupyter-widgets/controls",
          "model_name": "ProgressStyleModel",
          "model_module_version": "1.5.0",
          "state": {
            "_model_module": "@jupyter-widgets/controls",
            "_model_module_version": "1.5.0",
            "_model_name": "ProgressStyleModel",
            "_view_count": null,
            "_view_module": "@jupyter-widgets/base",
            "_view_module_version": "1.2.0",
            "_view_name": "StyleView",
            "bar_color": null,
            "description_width": ""
          }
        },
        "afeab67908da4f6ebc7e8353cad9bc42": {
          "model_module": "@jupyter-widgets/base",
          "model_name": "LayoutModel",
          "model_module_version": "1.2.0",
          "state": {
            "_model_module": "@jupyter-widgets/base",
            "_model_module_version": "1.2.0",
            "_model_name": "LayoutModel",
            "_view_count": null,
            "_view_module": "@jupyter-widgets/base",
            "_view_module_version": "1.2.0",
            "_view_name": "LayoutView",
            "align_content": null,
            "align_items": null,
            "align_self": null,
            "border": null,
            "bottom": null,
            "display": null,
            "flex": null,
            "flex_flow": null,
            "grid_area": null,
            "grid_auto_columns": null,
            "grid_auto_flow": null,
            "grid_auto_rows": null,
            "grid_column": null,
            "grid_gap": null,
            "grid_row": null,
            "grid_template_areas": null,
            "grid_template_columns": null,
            "grid_template_rows": null,
            "height": null,
            "justify_content": null,
            "justify_items": null,
            "left": null,
            "margin": null,
            "max_height": null,
            "max_width": null,
            "min_height": null,
            "min_width": null,
            "object_fit": null,
            "object_position": null,
            "order": null,
            "overflow": null,
            "overflow_x": null,
            "overflow_y": null,
            "padding": null,
            "right": null,
            "top": null,
            "visibility": null,
            "width": null
          }
        },
        "29adffb067a841be972defa016727d49": {
          "model_module": "@jupyter-widgets/controls",
          "model_name": "DescriptionStyleModel",
          "model_module_version": "1.5.0",
          "state": {
            "_model_module": "@jupyter-widgets/controls",
            "_model_module_version": "1.5.0",
            "_model_name": "DescriptionStyleModel",
            "_view_count": null,
            "_view_module": "@jupyter-widgets/base",
            "_view_module_version": "1.2.0",
            "_view_name": "StyleView",
            "description_width": ""
          }
        },
        "3474a48599844054beb2482b072a6e05": {
          "model_module": "@jupyter-widgets/controls",
          "model_name": "HBoxModel",
          "model_module_version": "1.5.0",
          "state": {
            "_dom_classes": [],
            "_model_module": "@jupyter-widgets/controls",
            "_model_module_version": "1.5.0",
            "_model_name": "HBoxModel",
            "_view_count": null,
            "_view_module": "@jupyter-widgets/controls",
            "_view_module_version": "1.5.0",
            "_view_name": "HBoxView",
            "box_style": "",
            "children": [
              "IPY_MODEL_ba073dc697b04449a25420210e2c78fd",
              "IPY_MODEL_ab0e76e88f204ff88a5d8123f342f61d",
              "IPY_MODEL_50956e0b2a044a3db6bf2ccb2000c2dc"
            ],
            "layout": "IPY_MODEL_cc7a91fb0aa94794a3f3c0f00fb2fbf2"
          }
        },
        "ba073dc697b04449a25420210e2c78fd": {
          "model_module": "@jupyter-widgets/controls",
          "model_name": "HTMLModel",
          "model_module_version": "1.5.0",
          "state": {
            "_dom_classes": [],
            "_model_module": "@jupyter-widgets/controls",
            "_model_module_version": "1.5.0",
            "_model_name": "HTMLModel",
            "_view_count": null,
            "_view_module": "@jupyter-widgets/controls",
            "_view_module_version": "1.5.0",
            "_view_name": "HTMLView",
            "description": "",
            "description_tooltip": null,
            "layout": "IPY_MODEL_a01e18516b4148ecaf2c7511c6d02d70",
            "placeholder": "​",
            "style": "IPY_MODEL_b5f5b29845c6477cafb57edb3ae299a5",
            "value": "pytorch_model-00002-of-00002.bin: 100%"
          }
        },
        "ab0e76e88f204ff88a5d8123f342f61d": {
          "model_module": "@jupyter-widgets/controls",
          "model_name": "FloatProgressModel",
          "model_module_version": "1.5.0",
          "state": {
            "_dom_classes": [],
            "_model_module": "@jupyter-widgets/controls",
            "_model_module_version": "1.5.0",
            "_model_name": "FloatProgressModel",
            "_view_count": null,
            "_view_module": "@jupyter-widgets/controls",
            "_view_module_version": "1.5.0",
            "_view_name": "ProgressView",
            "bar_style": "success",
            "description": "",
            "description_tooltip": null,
            "layout": "IPY_MODEL_741c8c9c90e24967baf384617f43128d",
            "max": 3500315539,
            "min": 0,
            "orientation": "horizontal",
            "style": "IPY_MODEL_7448bd7f943a463597ae655df65833b7",
            "value": 3500315539
          }
        },
        "50956e0b2a044a3db6bf2ccb2000c2dc": {
          "model_module": "@jupyter-widgets/controls",
          "model_name": "HTMLModel",
          "model_module_version": "1.5.0",
          "state": {
            "_dom_classes": [],
            "_model_module": "@jupyter-widgets/controls",
            "_model_module_version": "1.5.0",
            "_model_name": "HTMLModel",
            "_view_count": null,
            "_view_module": "@jupyter-widgets/controls",
            "_view_module_version": "1.5.0",
            "_view_name": "HTMLView",
            "description": "",
            "description_tooltip": null,
            "layout": "IPY_MODEL_7fbd5d37e823441a878074fb796d680e",
            "placeholder": "​",
            "style": "IPY_MODEL_367b318454e84664ba618f366000632f",
            "value": " 3.50G/3.50G [00:09&lt;00:00, 404MB/s]"
          }
        },
        "cc7a91fb0aa94794a3f3c0f00fb2fbf2": {
          "model_module": "@jupyter-widgets/base",
          "model_name": "LayoutModel",
          "model_module_version": "1.2.0",
          "state": {
            "_model_module": "@jupyter-widgets/base",
            "_model_module_version": "1.2.0",
            "_model_name": "LayoutModel",
            "_view_count": null,
            "_view_module": "@jupyter-widgets/base",
            "_view_module_version": "1.2.0",
            "_view_name": "LayoutView",
            "align_content": null,
            "align_items": null,
            "align_self": null,
            "border": null,
            "bottom": null,
            "display": null,
            "flex": null,
            "flex_flow": null,
            "grid_area": null,
            "grid_auto_columns": null,
            "grid_auto_flow": null,
            "grid_auto_rows": null,
            "grid_column": null,
            "grid_gap": null,
            "grid_row": null,
            "grid_template_areas": null,
            "grid_template_columns": null,
            "grid_template_rows": null,
            "height": null,
            "justify_content": null,
            "justify_items": null,
            "left": null,
            "margin": null,
            "max_height": null,
            "max_width": null,
            "min_height": null,
            "min_width": null,
            "object_fit": null,
            "object_position": null,
            "order": null,
            "overflow": null,
            "overflow_x": null,
            "overflow_y": null,
            "padding": null,
            "right": null,
            "top": null,
            "visibility": null,
            "width": null
          }
        },
        "a01e18516b4148ecaf2c7511c6d02d70": {
          "model_module": "@jupyter-widgets/base",
          "model_name": "LayoutModel",
          "model_module_version": "1.2.0",
          "state": {
            "_model_module": "@jupyter-widgets/base",
            "_model_module_version": "1.2.0",
            "_model_name": "LayoutModel",
            "_view_count": null,
            "_view_module": "@jupyter-widgets/base",
            "_view_module_version": "1.2.0",
            "_view_name": "LayoutView",
            "align_content": null,
            "align_items": null,
            "align_self": null,
            "border": null,
            "bottom": null,
            "display": null,
            "flex": null,
            "flex_flow": null,
            "grid_area": null,
            "grid_auto_columns": null,
            "grid_auto_flow": null,
            "grid_auto_rows": null,
            "grid_column": null,
            "grid_gap": null,
            "grid_row": null,
            "grid_template_areas": null,
            "grid_template_columns": null,
            "grid_template_rows": null,
            "height": null,
            "justify_content": null,
            "justify_items": null,
            "left": null,
            "margin": null,
            "max_height": null,
            "max_width": null,
            "min_height": null,
            "min_width": null,
            "object_fit": null,
            "object_position": null,
            "order": null,
            "overflow": null,
            "overflow_x": null,
            "overflow_y": null,
            "padding": null,
            "right": null,
            "top": null,
            "visibility": null,
            "width": null
          }
        },
        "b5f5b29845c6477cafb57edb3ae299a5": {
          "model_module": "@jupyter-widgets/controls",
          "model_name": "DescriptionStyleModel",
          "model_module_version": "1.5.0",
          "state": {
            "_model_module": "@jupyter-widgets/controls",
            "_model_module_version": "1.5.0",
            "_model_name": "DescriptionStyleModel",
            "_view_count": null,
            "_view_module": "@jupyter-widgets/base",
            "_view_module_version": "1.2.0",
            "_view_name": "StyleView",
            "description_width": ""
          }
        },
        "741c8c9c90e24967baf384617f43128d": {
          "model_module": "@jupyter-widgets/base",
          "model_name": "LayoutModel",
          "model_module_version": "1.2.0",
          "state": {
            "_model_module": "@jupyter-widgets/base",
            "_model_module_version": "1.2.0",
            "_model_name": "LayoutModel",
            "_view_count": null,
            "_view_module": "@jupyter-widgets/base",
            "_view_module_version": "1.2.0",
            "_view_name": "LayoutView",
            "align_content": null,
            "align_items": null,
            "align_self": null,
            "border": null,
            "bottom": null,
            "display": null,
            "flex": null,
            "flex_flow": null,
            "grid_area": null,
            "grid_auto_columns": null,
            "grid_auto_flow": null,
            "grid_auto_rows": null,
            "grid_column": null,
            "grid_gap": null,
            "grid_row": null,
            "grid_template_areas": null,
            "grid_template_columns": null,
            "grid_template_rows": null,
            "height": null,
            "justify_content": null,
            "justify_items": null,
            "left": null,
            "margin": null,
            "max_height": null,
            "max_width": null,
            "min_height": null,
            "min_width": null,
            "object_fit": null,
            "object_position": null,
            "order": null,
            "overflow": null,
            "overflow_x": null,
            "overflow_y": null,
            "padding": null,
            "right": null,
            "top": null,
            "visibility": null,
            "width": null
          }
        },
        "7448bd7f943a463597ae655df65833b7": {
          "model_module": "@jupyter-widgets/controls",
          "model_name": "ProgressStyleModel",
          "model_module_version": "1.5.0",
          "state": {
            "_model_module": "@jupyter-widgets/controls",
            "_model_module_version": "1.5.0",
            "_model_name": "ProgressStyleModel",
            "_view_count": null,
            "_view_module": "@jupyter-widgets/base",
            "_view_module_version": "1.2.0",
            "_view_name": "StyleView",
            "bar_color": null,
            "description_width": ""
          }
        },
        "7fbd5d37e823441a878074fb796d680e": {
          "model_module": "@jupyter-widgets/base",
          "model_name": "LayoutModel",
          "model_module_version": "1.2.0",
          "state": {
            "_model_module": "@jupyter-widgets/base",
            "_model_module_version": "1.2.0",
            "_model_name": "LayoutModel",
            "_view_count": null,
            "_view_module": "@jupyter-widgets/base",
            "_view_module_version": "1.2.0",
            "_view_name": "LayoutView",
            "align_content": null,
            "align_items": null,
            "align_self": null,
            "border": null,
            "bottom": null,
            "display": null,
            "flex": null,
            "flex_flow": null,
            "grid_area": null,
            "grid_auto_columns": null,
            "grid_auto_flow": null,
            "grid_auto_rows": null,
            "grid_column": null,
            "grid_gap": null,
            "grid_row": null,
            "grid_template_areas": null,
            "grid_template_columns": null,
            "grid_template_rows": null,
            "height": null,
            "justify_content": null,
            "justify_items": null,
            "left": null,
            "margin": null,
            "max_height": null,
            "max_width": null,
            "min_height": null,
            "min_width": null,
            "object_fit": null,
            "object_position": null,
            "order": null,
            "overflow": null,
            "overflow_x": null,
            "overflow_y": null,
            "padding": null,
            "right": null,
            "top": null,
            "visibility": null,
            "width": null
          }
        },
        "367b318454e84664ba618f366000632f": {
          "model_module": "@jupyter-widgets/controls",
          "model_name": "DescriptionStyleModel",
          "model_module_version": "1.5.0",
          "state": {
            "_model_module": "@jupyter-widgets/controls",
            "_model_module_version": "1.5.0",
            "_model_name": "DescriptionStyleModel",
            "_view_count": null,
            "_view_module": "@jupyter-widgets/base",
            "_view_module_version": "1.2.0",
            "_view_name": "StyleView",
            "description_width": ""
          }
        },
        "7561b72ac7bd44cab167740a1981c71d": {
          "model_module": "@jupyter-widgets/controls",
          "model_name": "HBoxModel",
          "model_module_version": "1.5.0",
          "state": {
            "_dom_classes": [],
            "_model_module": "@jupyter-widgets/controls",
            "_model_module_version": "1.5.0",
            "_model_name": "HBoxModel",
            "_view_count": null,
            "_view_module": "@jupyter-widgets/controls",
            "_view_module_version": "1.5.0",
            "_view_name": "HBoxView",
            "box_style": "",
            "children": [
              "IPY_MODEL_ac2d7899edd84250ac386251441a1c5d",
              "IPY_MODEL_46f43aeea5b44ca4882aab6b71baee5a",
              "IPY_MODEL_b29dd8883adc41b2beba2e9c74cc5596"
            ],
            "layout": "IPY_MODEL_edbce3e0e5ed493da63489c97eb7387b"
          }
        },
        "ac2d7899edd84250ac386251441a1c5d": {
          "model_module": "@jupyter-widgets/controls",
          "model_name": "HTMLModel",
          "model_module_version": "1.5.0",
          "state": {
            "_dom_classes": [],
            "_model_module": "@jupyter-widgets/controls",
            "_model_module_version": "1.5.0",
            "_model_name": "HTMLModel",
            "_view_count": null,
            "_view_module": "@jupyter-widgets/controls",
            "_view_module_version": "1.5.0",
            "_view_name": "HTMLView",
            "description": "",
            "description_tooltip": null,
            "layout": "IPY_MODEL_c731391a55f94dc6bb9b2ed53b08d8da",
            "placeholder": "​",
            "style": "IPY_MODEL_7dbc20bffec2431abb96bc8c7af83af3",
            "value": "Loading checkpoint shards: 100%"
          }
        },
        "46f43aeea5b44ca4882aab6b71baee5a": {
          "model_module": "@jupyter-widgets/controls",
          "model_name": "FloatProgressModel",
          "model_module_version": "1.5.0",
          "state": {
            "_dom_classes": [],
            "_model_module": "@jupyter-widgets/controls",
            "_model_module_version": "1.5.0",
            "_model_name": "FloatProgressModel",
            "_view_count": null,
            "_view_module": "@jupyter-widgets/controls",
            "_view_module_version": "1.5.0",
            "_view_name": "ProgressView",
            "bar_style": "success",
            "description": "",
            "description_tooltip": null,
            "layout": "IPY_MODEL_5e993677c1f444c7811157a488dd440d",
            "max": 2,
            "min": 0,
            "orientation": "horizontal",
            "style": "IPY_MODEL_df48548dc17d43da94c54ac4288d94c5",
            "value": 2
          }
        },
        "b29dd8883adc41b2beba2e9c74cc5596": {
          "model_module": "@jupyter-widgets/controls",
          "model_name": "HTMLModel",
          "model_module_version": "1.5.0",
          "state": {
            "_dom_classes": [],
            "_model_module": "@jupyter-widgets/controls",
            "_model_module_version": "1.5.0",
            "_model_name": "HTMLModel",
            "_view_count": null,
            "_view_module": "@jupyter-widgets/controls",
            "_view_module_version": "1.5.0",
            "_view_name": "HTMLView",
            "description": "",
            "description_tooltip": null,
            "layout": "IPY_MODEL_637bbdbc765e44a2bbc8f3421e4681fa",
            "placeholder": "​",
            "style": "IPY_MODEL_04533841319643f7811084be2b853235",
            "value": " 2/2 [00:04&lt;00:00,  2.18s/it]"
          }
        },
        "edbce3e0e5ed493da63489c97eb7387b": {
          "model_module": "@jupyter-widgets/base",
          "model_name": "LayoutModel",
          "model_module_version": "1.2.0",
          "state": {
            "_model_module": "@jupyter-widgets/base",
            "_model_module_version": "1.2.0",
            "_model_name": "LayoutModel",
            "_view_count": null,
            "_view_module": "@jupyter-widgets/base",
            "_view_module_version": "1.2.0",
            "_view_name": "LayoutView",
            "align_content": null,
            "align_items": null,
            "align_self": null,
            "border": null,
            "bottom": null,
            "display": null,
            "flex": null,
            "flex_flow": null,
            "grid_area": null,
            "grid_auto_columns": null,
            "grid_auto_flow": null,
            "grid_auto_rows": null,
            "grid_column": null,
            "grid_gap": null,
            "grid_row": null,
            "grid_template_areas": null,
            "grid_template_columns": null,
            "grid_template_rows": null,
            "height": null,
            "justify_content": null,
            "justify_items": null,
            "left": null,
            "margin": null,
            "max_height": null,
            "max_width": null,
            "min_height": null,
            "min_width": null,
            "object_fit": null,
            "object_position": null,
            "order": null,
            "overflow": null,
            "overflow_x": null,
            "overflow_y": null,
            "padding": null,
            "right": null,
            "top": null,
            "visibility": null,
            "width": null
          }
        },
        "c731391a55f94dc6bb9b2ed53b08d8da": {
          "model_module": "@jupyter-widgets/base",
          "model_name": "LayoutModel",
          "model_module_version": "1.2.0",
          "state": {
            "_model_module": "@jupyter-widgets/base",
            "_model_module_version": "1.2.0",
            "_model_name": "LayoutModel",
            "_view_count": null,
            "_view_module": "@jupyter-widgets/base",
            "_view_module_version": "1.2.0",
            "_view_name": "LayoutView",
            "align_content": null,
            "align_items": null,
            "align_self": null,
            "border": null,
            "bottom": null,
            "display": null,
            "flex": null,
            "flex_flow": null,
            "grid_area": null,
            "grid_auto_columns": null,
            "grid_auto_flow": null,
            "grid_auto_rows": null,
            "grid_column": null,
            "grid_gap": null,
            "grid_row": null,
            "grid_template_areas": null,
            "grid_template_columns": null,
            "grid_template_rows": null,
            "height": null,
            "justify_content": null,
            "justify_items": null,
            "left": null,
            "margin": null,
            "max_height": null,
            "max_width": null,
            "min_height": null,
            "min_width": null,
            "object_fit": null,
            "object_position": null,
            "order": null,
            "overflow": null,
            "overflow_x": null,
            "overflow_y": null,
            "padding": null,
            "right": null,
            "top": null,
            "visibility": null,
            "width": null
          }
        },
        "7dbc20bffec2431abb96bc8c7af83af3": {
          "model_module": "@jupyter-widgets/controls",
          "model_name": "DescriptionStyleModel",
          "model_module_version": "1.5.0",
          "state": {
            "_model_module": "@jupyter-widgets/controls",
            "_model_module_version": "1.5.0",
            "_model_name": "DescriptionStyleModel",
            "_view_count": null,
            "_view_module": "@jupyter-widgets/base",
            "_view_module_version": "1.2.0",
            "_view_name": "StyleView",
            "description_width": ""
          }
        },
        "5e993677c1f444c7811157a488dd440d": {
          "model_module": "@jupyter-widgets/base",
          "model_name": "LayoutModel",
          "model_module_version": "1.2.0",
          "state": {
            "_model_module": "@jupyter-widgets/base",
            "_model_module_version": "1.2.0",
            "_model_name": "LayoutModel",
            "_view_count": null,
            "_view_module": "@jupyter-widgets/base",
            "_view_module_version": "1.2.0",
            "_view_name": "LayoutView",
            "align_content": null,
            "align_items": null,
            "align_self": null,
            "border": null,
            "bottom": null,
            "display": null,
            "flex": null,
            "flex_flow": null,
            "grid_area": null,
            "grid_auto_columns": null,
            "grid_auto_flow": null,
            "grid_auto_rows": null,
            "grid_column": null,
            "grid_gap": null,
            "grid_row": null,
            "grid_template_areas": null,
            "grid_template_columns": null,
            "grid_template_rows": null,
            "height": null,
            "justify_content": null,
            "justify_items": null,
            "left": null,
            "margin": null,
            "max_height": null,
            "max_width": null,
            "min_height": null,
            "min_width": null,
            "object_fit": null,
            "object_position": null,
            "order": null,
            "overflow": null,
            "overflow_x": null,
            "overflow_y": null,
            "padding": null,
            "right": null,
            "top": null,
            "visibility": null,
            "width": null
          }
        },
        "df48548dc17d43da94c54ac4288d94c5": {
          "model_module": "@jupyter-widgets/controls",
          "model_name": "ProgressStyleModel",
          "model_module_version": "1.5.0",
          "state": {
            "_model_module": "@jupyter-widgets/controls",
            "_model_module_version": "1.5.0",
            "_model_name": "ProgressStyleModel",
            "_view_count": null,
            "_view_module": "@jupyter-widgets/base",
            "_view_module_version": "1.2.0",
            "_view_name": "StyleView",
            "bar_color": null,
            "description_width": ""
          }
        },
        "637bbdbc765e44a2bbc8f3421e4681fa": {
          "model_module": "@jupyter-widgets/base",
          "model_name": "LayoutModel",
          "model_module_version": "1.2.0",
          "state": {
            "_model_module": "@jupyter-widgets/base",
            "_model_module_version": "1.2.0",
            "_model_name": "LayoutModel",
            "_view_count": null,
            "_view_module": "@jupyter-widgets/base",
            "_view_module_version": "1.2.0",
            "_view_name": "LayoutView",
            "align_content": null,
            "align_items": null,
            "align_self": null,
            "border": null,
            "bottom": null,
            "display": null,
            "flex": null,
            "flex_flow": null,
            "grid_area": null,
            "grid_auto_columns": null,
            "grid_auto_flow": null,
            "grid_auto_rows": null,
            "grid_column": null,
            "grid_gap": null,
            "grid_row": null,
            "grid_template_areas": null,
            "grid_template_columns": null,
            "grid_template_rows": null,
            "height": null,
            "justify_content": null,
            "justify_items": null,
            "left": null,
            "margin": null,
            "max_height": null,
            "max_width": null,
            "min_height": null,
            "min_width": null,
            "object_fit": null,
            "object_position": null,
            "order": null,
            "overflow": null,
            "overflow_x": null,
            "overflow_y": null,
            "padding": null,
            "right": null,
            "top": null,
            "visibility": null,
            "width": null
          }
        },
        "04533841319643f7811084be2b853235": {
          "model_module": "@jupyter-widgets/controls",
          "model_name": "DescriptionStyleModel",
          "model_module_version": "1.5.0",
          "state": {
            "_model_module": "@jupyter-widgets/controls",
            "_model_module_version": "1.5.0",
            "_model_name": "DescriptionStyleModel",
            "_view_count": null,
            "_view_module": "@jupyter-widgets/base",
            "_view_module_version": "1.2.0",
            "_view_name": "StyleView",
            "description_width": ""
          }
        },
        "01b349b87bff47c88cad25b0441d2f3f": {
          "model_module": "@jupyter-widgets/controls",
          "model_name": "HBoxModel",
          "model_module_version": "1.5.0",
          "state": {
            "_dom_classes": [],
            "_model_module": "@jupyter-widgets/controls",
            "_model_module_version": "1.5.0",
            "_model_name": "HBoxModel",
            "_view_count": null,
            "_view_module": "@jupyter-widgets/controls",
            "_view_module_version": "1.5.0",
            "_view_name": "HBoxView",
            "box_style": "",
            "children": [
              "IPY_MODEL_70dd53ed62b6486dbfeaa32115648e28",
              "IPY_MODEL_e1037ef6f39d41bf9f7c8d73b050e1d2",
              "IPY_MODEL_e55859e9b8d249ad9b7f37f40cf57602"
            ],
            "layout": "IPY_MODEL_bc3f7b1f3c1b46fcb7b31a1b457a4b68"
          }
        },
        "70dd53ed62b6486dbfeaa32115648e28": {
          "model_module": "@jupyter-widgets/controls",
          "model_name": "HTMLModel",
          "model_module_version": "1.5.0",
          "state": {
            "_dom_classes": [],
            "_model_module": "@jupyter-widgets/controls",
            "_model_module_version": "1.5.0",
            "_model_name": "HTMLModel",
            "_view_count": null,
            "_view_module": "@jupyter-widgets/controls",
            "_view_module_version": "1.5.0",
            "_view_name": "HTMLView",
            "description": "",
            "description_tooltip": null,
            "layout": "IPY_MODEL_bed9cbf08bd24ae8a150c7152be5fc3a",
            "placeholder": "​",
            "style": "IPY_MODEL_92df868b5dae4d2e874d3f1ca93eafd6",
            "value": "generation_config.json: 100%"
          }
        },
        "e1037ef6f39d41bf9f7c8d73b050e1d2": {
          "model_module": "@jupyter-widgets/controls",
          "model_name": "FloatProgressModel",
          "model_module_version": "1.5.0",
          "state": {
            "_dom_classes": [],
            "_model_module": "@jupyter-widgets/controls",
            "_model_module_version": "1.5.0",
            "_model_name": "FloatProgressModel",
            "_view_count": null,
            "_view_module": "@jupyter-widgets/controls",
            "_view_module_version": "1.5.0",
            "_view_name": "ProgressView",
            "bar_style": "success",
            "description": "",
            "description_tooltip": null,
            "layout": "IPY_MODEL_140bdaf833944475b5cbeca4db6d088a",
            "max": 137,
            "min": 0,
            "orientation": "horizontal",
            "style": "IPY_MODEL_28edc115a437494aa496cb999a23b962",
            "value": 137
          }
        },
        "e55859e9b8d249ad9b7f37f40cf57602": {
          "model_module": "@jupyter-widgets/controls",
          "model_name": "HTMLModel",
          "model_module_version": "1.5.0",
          "state": {
            "_dom_classes": [],
            "_model_module": "@jupyter-widgets/controls",
            "_model_module_version": "1.5.0",
            "_model_name": "HTMLModel",
            "_view_count": null,
            "_view_module": "@jupyter-widgets/controls",
            "_view_module_version": "1.5.0",
            "_view_name": "HTMLView",
            "description": "",
            "description_tooltip": null,
            "layout": "IPY_MODEL_dabd09410b7c4e7f9ce3805f6bbdba86",
            "placeholder": "​",
            "style": "IPY_MODEL_84919caf2e5a4375a9237b72d0dc4345",
            "value": " 137/137 [00:00&lt;00:00, 11.0kB/s]"
          }
        },
        "bc3f7b1f3c1b46fcb7b31a1b457a4b68": {
          "model_module": "@jupyter-widgets/base",
          "model_name": "LayoutModel",
          "model_module_version": "1.2.0",
          "state": {
            "_model_module": "@jupyter-widgets/base",
            "_model_module_version": "1.2.0",
            "_model_name": "LayoutModel",
            "_view_count": null,
            "_view_module": "@jupyter-widgets/base",
            "_view_module_version": "1.2.0",
            "_view_name": "LayoutView",
            "align_content": null,
            "align_items": null,
            "align_self": null,
            "border": null,
            "bottom": null,
            "display": null,
            "flex": null,
            "flex_flow": null,
            "grid_area": null,
            "grid_auto_columns": null,
            "grid_auto_flow": null,
            "grid_auto_rows": null,
            "grid_column": null,
            "grid_gap": null,
            "grid_row": null,
            "grid_template_areas": null,
            "grid_template_columns": null,
            "grid_template_rows": null,
            "height": null,
            "justify_content": null,
            "justify_items": null,
            "left": null,
            "margin": null,
            "max_height": null,
            "max_width": null,
            "min_height": null,
            "min_width": null,
            "object_fit": null,
            "object_position": null,
            "order": null,
            "overflow": null,
            "overflow_x": null,
            "overflow_y": null,
            "padding": null,
            "right": null,
            "top": null,
            "visibility": null,
            "width": null
          }
        },
        "bed9cbf08bd24ae8a150c7152be5fc3a": {
          "model_module": "@jupyter-widgets/base",
          "model_name": "LayoutModel",
          "model_module_version": "1.2.0",
          "state": {
            "_model_module": "@jupyter-widgets/base",
            "_model_module_version": "1.2.0",
            "_model_name": "LayoutModel",
            "_view_count": null,
            "_view_module": "@jupyter-widgets/base",
            "_view_module_version": "1.2.0",
            "_view_name": "LayoutView",
            "align_content": null,
            "align_items": null,
            "align_self": null,
            "border": null,
            "bottom": null,
            "display": null,
            "flex": null,
            "flex_flow": null,
            "grid_area": null,
            "grid_auto_columns": null,
            "grid_auto_flow": null,
            "grid_auto_rows": null,
            "grid_column": null,
            "grid_gap": null,
            "grid_row": null,
            "grid_template_areas": null,
            "grid_template_columns": null,
            "grid_template_rows": null,
            "height": null,
            "justify_content": null,
            "justify_items": null,
            "left": null,
            "margin": null,
            "max_height": null,
            "max_width": null,
            "min_height": null,
            "min_width": null,
            "object_fit": null,
            "object_position": null,
            "order": null,
            "overflow": null,
            "overflow_x": null,
            "overflow_y": null,
            "padding": null,
            "right": null,
            "top": null,
            "visibility": null,
            "width": null
          }
        },
        "92df868b5dae4d2e874d3f1ca93eafd6": {
          "model_module": "@jupyter-widgets/controls",
          "model_name": "DescriptionStyleModel",
          "model_module_version": "1.5.0",
          "state": {
            "_model_module": "@jupyter-widgets/controls",
            "_model_module_version": "1.5.0",
            "_model_name": "DescriptionStyleModel",
            "_view_count": null,
            "_view_module": "@jupyter-widgets/base",
            "_view_module_version": "1.2.0",
            "_view_name": "StyleView",
            "description_width": ""
          }
        },
        "140bdaf833944475b5cbeca4db6d088a": {
          "model_module": "@jupyter-widgets/base",
          "model_name": "LayoutModel",
          "model_module_version": "1.2.0",
          "state": {
            "_model_module": "@jupyter-widgets/base",
            "_model_module_version": "1.2.0",
            "_model_name": "LayoutModel",
            "_view_count": null,
            "_view_module": "@jupyter-widgets/base",
            "_view_module_version": "1.2.0",
            "_view_name": "LayoutView",
            "align_content": null,
            "align_items": null,
            "align_self": null,
            "border": null,
            "bottom": null,
            "display": null,
            "flex": null,
            "flex_flow": null,
            "grid_area": null,
            "grid_auto_columns": null,
            "grid_auto_flow": null,
            "grid_auto_rows": null,
            "grid_column": null,
            "grid_gap": null,
            "grid_row": null,
            "grid_template_areas": null,
            "grid_template_columns": null,
            "grid_template_rows": null,
            "height": null,
            "justify_content": null,
            "justify_items": null,
            "left": null,
            "margin": null,
            "max_height": null,
            "max_width": null,
            "min_height": null,
            "min_width": null,
            "object_fit": null,
            "object_position": null,
            "order": null,
            "overflow": null,
            "overflow_x": null,
            "overflow_y": null,
            "padding": null,
            "right": null,
            "top": null,
            "visibility": null,
            "width": null
          }
        },
        "28edc115a437494aa496cb999a23b962": {
          "model_module": "@jupyter-widgets/controls",
          "model_name": "ProgressStyleModel",
          "model_module_version": "1.5.0",
          "state": {
            "_model_module": "@jupyter-widgets/controls",
            "_model_module_version": "1.5.0",
            "_model_name": "ProgressStyleModel",
            "_view_count": null,
            "_view_module": "@jupyter-widgets/base",
            "_view_module_version": "1.2.0",
            "_view_name": "StyleView",
            "bar_color": null,
            "description_width": ""
          }
        },
        "dabd09410b7c4e7f9ce3805f6bbdba86": {
          "model_module": "@jupyter-widgets/base",
          "model_name": "LayoutModel",
          "model_module_version": "1.2.0",
          "state": {
            "_model_module": "@jupyter-widgets/base",
            "_model_module_version": "1.2.0",
            "_model_name": "LayoutModel",
            "_view_count": null,
            "_view_module": "@jupyter-widgets/base",
            "_view_module_version": "1.2.0",
            "_view_name": "LayoutView",
            "align_content": null,
            "align_items": null,
            "align_self": null,
            "border": null,
            "bottom": null,
            "display": null,
            "flex": null,
            "flex_flow": null,
            "grid_area": null,
            "grid_auto_columns": null,
            "grid_auto_flow": null,
            "grid_auto_rows": null,
            "grid_column": null,
            "grid_gap": null,
            "grid_row": null,
            "grid_template_areas": null,
            "grid_template_columns": null,
            "grid_template_rows": null,
            "height": null,
            "justify_content": null,
            "justify_items": null,
            "left": null,
            "margin": null,
            "max_height": null,
            "max_width": null,
            "min_height": null,
            "min_width": null,
            "object_fit": null,
            "object_position": null,
            "order": null,
            "overflow": null,
            "overflow_x": null,
            "overflow_y": null,
            "padding": null,
            "right": null,
            "top": null,
            "visibility": null,
            "width": null
          }
        },
        "84919caf2e5a4375a9237b72d0dc4345": {
          "model_module": "@jupyter-widgets/controls",
          "model_name": "DescriptionStyleModel",
          "model_module_version": "1.5.0",
          "state": {
            "_model_module": "@jupyter-widgets/controls",
            "_model_module_version": "1.5.0",
            "_model_name": "DescriptionStyleModel",
            "_view_count": null,
            "_view_module": "@jupyter-widgets/base",
            "_view_module_version": "1.2.0",
            "_view_name": "StyleView",
            "description_width": ""
          }
        },
        "b93cec503d954fa0989a8c84dfd74067": {
          "model_module": "@jupyter-widgets/controls",
          "model_name": "HBoxModel",
          "model_module_version": "1.5.0",
          "state": {
            "_dom_classes": [],
            "_model_module": "@jupyter-widgets/controls",
            "_model_module_version": "1.5.0",
            "_model_name": "HBoxModel",
            "_view_count": null,
            "_view_module": "@jupyter-widgets/controls",
            "_view_module_version": "1.5.0",
            "_view_name": "HBoxView",
            "box_style": "",
            "children": [
              "IPY_MODEL_7ea0a878f3ef43b795c06d8fd410f880",
              "IPY_MODEL_c7969122698f4464b199618607682d4f",
              "IPY_MODEL_3b9db1bc16e44db491efb858d7495aeb"
            ],
            "layout": "IPY_MODEL_935ea3c95edb4ee5bddc01241839cbe8"
          }
        },
        "7ea0a878f3ef43b795c06d8fd410f880": {
          "model_module": "@jupyter-widgets/controls",
          "model_name": "HTMLModel",
          "model_module_version": "1.5.0",
          "state": {
            "_dom_classes": [],
            "_model_module": "@jupyter-widgets/controls",
            "_model_module_version": "1.5.0",
            "_model_name": "HTMLModel",
            "_view_count": null,
            "_view_module": "@jupyter-widgets/controls",
            "_view_module_version": "1.5.0",
            "_view_name": "HTMLView",
            "description": "",
            "description_tooltip": null,
            "layout": "IPY_MODEL_7156e06ff5c64d52b0ef3626fb55c636",
            "placeholder": "​",
            "style": "IPY_MODEL_892f25bdc3dc477483936e178e68d0ee",
            "value": "tokenizer_config.json: 100%"
          }
        },
        "c7969122698f4464b199618607682d4f": {
          "model_module": "@jupyter-widgets/controls",
          "model_name": "FloatProgressModel",
          "model_module_version": "1.5.0",
          "state": {
            "_dom_classes": [],
            "_model_module": "@jupyter-widgets/controls",
            "_model_module_version": "1.5.0",
            "_model_name": "FloatProgressModel",
            "_view_count": null,
            "_view_module": "@jupyter-widgets/controls",
            "_view_module_version": "1.5.0",
            "_view_name": "ProgressView",
            "bar_style": "success",
            "description": "",
            "description_tooltip": null,
            "layout": "IPY_MODEL_68891af492fa4f0a8061227ed95417e6",
            "max": 727,
            "min": 0,
            "orientation": "horizontal",
            "style": "IPY_MODEL_7ecb78bb5fa74e65b6c88e4ff95624cc",
            "value": 727
          }
        },
        "3b9db1bc16e44db491efb858d7495aeb": {
          "model_module": "@jupyter-widgets/controls",
          "model_name": "HTMLModel",
          "model_module_version": "1.5.0",
          "state": {
            "_dom_classes": [],
            "_model_module": "@jupyter-widgets/controls",
            "_model_module_version": "1.5.0",
            "_model_name": "HTMLModel",
            "_view_count": null,
            "_view_module": "@jupyter-widgets/controls",
            "_view_module_version": "1.5.0",
            "_view_name": "HTMLView",
            "description": "",
            "description_tooltip": null,
            "layout": "IPY_MODEL_9cebf28e445147a59b2b2fb2ae8b3745",
            "placeholder": "​",
            "style": "IPY_MODEL_375e8809b4dd4838abe98a05166a92d0",
            "value": " 727/727 [00:00&lt;00:00, 57.6kB/s]"
          }
        },
        "935ea3c95edb4ee5bddc01241839cbe8": {
          "model_module": "@jupyter-widgets/base",
          "model_name": "LayoutModel",
          "model_module_version": "1.2.0",
          "state": {
            "_model_module": "@jupyter-widgets/base",
            "_model_module_version": "1.2.0",
            "_model_name": "LayoutModel",
            "_view_count": null,
            "_view_module": "@jupyter-widgets/base",
            "_view_module_version": "1.2.0",
            "_view_name": "LayoutView",
            "align_content": null,
            "align_items": null,
            "align_self": null,
            "border": null,
            "bottom": null,
            "display": null,
            "flex": null,
            "flex_flow": null,
            "grid_area": null,
            "grid_auto_columns": null,
            "grid_auto_flow": null,
            "grid_auto_rows": null,
            "grid_column": null,
            "grid_gap": null,
            "grid_row": null,
            "grid_template_areas": null,
            "grid_template_columns": null,
            "grid_template_rows": null,
            "height": null,
            "justify_content": null,
            "justify_items": null,
            "left": null,
            "margin": null,
            "max_height": null,
            "max_width": null,
            "min_height": null,
            "min_width": null,
            "object_fit": null,
            "object_position": null,
            "order": null,
            "overflow": null,
            "overflow_x": null,
            "overflow_y": null,
            "padding": null,
            "right": null,
            "top": null,
            "visibility": null,
            "width": null
          }
        },
        "7156e06ff5c64d52b0ef3626fb55c636": {
          "model_module": "@jupyter-widgets/base",
          "model_name": "LayoutModel",
          "model_module_version": "1.2.0",
          "state": {
            "_model_module": "@jupyter-widgets/base",
            "_model_module_version": "1.2.0",
            "_model_name": "LayoutModel",
            "_view_count": null,
            "_view_module": "@jupyter-widgets/base",
            "_view_module_version": "1.2.0",
            "_view_name": "LayoutView",
            "align_content": null,
            "align_items": null,
            "align_self": null,
            "border": null,
            "bottom": null,
            "display": null,
            "flex": null,
            "flex_flow": null,
            "grid_area": null,
            "grid_auto_columns": null,
            "grid_auto_flow": null,
            "grid_auto_rows": null,
            "grid_column": null,
            "grid_gap": null,
            "grid_row": null,
            "grid_template_areas": null,
            "grid_template_columns": null,
            "grid_template_rows": null,
            "height": null,
            "justify_content": null,
            "justify_items": null,
            "left": null,
            "margin": null,
            "max_height": null,
            "max_width": null,
            "min_height": null,
            "min_width": null,
            "object_fit": null,
            "object_position": null,
            "order": null,
            "overflow": null,
            "overflow_x": null,
            "overflow_y": null,
            "padding": null,
            "right": null,
            "top": null,
            "visibility": null,
            "width": null
          }
        },
        "892f25bdc3dc477483936e178e68d0ee": {
          "model_module": "@jupyter-widgets/controls",
          "model_name": "DescriptionStyleModel",
          "model_module_version": "1.5.0",
          "state": {
            "_model_module": "@jupyter-widgets/controls",
            "_model_module_version": "1.5.0",
            "_model_name": "DescriptionStyleModel",
            "_view_count": null,
            "_view_module": "@jupyter-widgets/base",
            "_view_module_version": "1.2.0",
            "_view_name": "StyleView",
            "description_width": ""
          }
        },
        "68891af492fa4f0a8061227ed95417e6": {
          "model_module": "@jupyter-widgets/base",
          "model_name": "LayoutModel",
          "model_module_version": "1.2.0",
          "state": {
            "_model_module": "@jupyter-widgets/base",
            "_model_module_version": "1.2.0",
            "_model_name": "LayoutModel",
            "_view_count": null,
            "_view_module": "@jupyter-widgets/base",
            "_view_module_version": "1.2.0",
            "_view_name": "LayoutView",
            "align_content": null,
            "align_items": null,
            "align_self": null,
            "border": null,
            "bottom": null,
            "display": null,
            "flex": null,
            "flex_flow": null,
            "grid_area": null,
            "grid_auto_columns": null,
            "grid_auto_flow": null,
            "grid_auto_rows": null,
            "grid_column": null,
            "grid_gap": null,
            "grid_row": null,
            "grid_template_areas": null,
            "grid_template_columns": null,
            "grid_template_rows": null,
            "height": null,
            "justify_content": null,
            "justify_items": null,
            "left": null,
            "margin": null,
            "max_height": null,
            "max_width": null,
            "min_height": null,
            "min_width": null,
            "object_fit": null,
            "object_position": null,
            "order": null,
            "overflow": null,
            "overflow_x": null,
            "overflow_y": null,
            "padding": null,
            "right": null,
            "top": null,
            "visibility": null,
            "width": null
          }
        },
        "7ecb78bb5fa74e65b6c88e4ff95624cc": {
          "model_module": "@jupyter-widgets/controls",
          "model_name": "ProgressStyleModel",
          "model_module_version": "1.5.0",
          "state": {
            "_model_module": "@jupyter-widgets/controls",
            "_model_module_version": "1.5.0",
            "_model_name": "ProgressStyleModel",
            "_view_count": null,
            "_view_module": "@jupyter-widgets/base",
            "_view_module_version": "1.2.0",
            "_view_name": "StyleView",
            "bar_color": null,
            "description_width": ""
          }
        },
        "9cebf28e445147a59b2b2fb2ae8b3745": {
          "model_module": "@jupyter-widgets/base",
          "model_name": "LayoutModel",
          "model_module_version": "1.2.0",
          "state": {
            "_model_module": "@jupyter-widgets/base",
            "_model_module_version": "1.2.0",
            "_model_name": "LayoutModel",
            "_view_count": null,
            "_view_module": "@jupyter-widgets/base",
            "_view_module_version": "1.2.0",
            "_view_name": "LayoutView",
            "align_content": null,
            "align_items": null,
            "align_self": null,
            "border": null,
            "bottom": null,
            "display": null,
            "flex": null,
            "flex_flow": null,
            "grid_area": null,
            "grid_auto_columns": null,
            "grid_auto_flow": null,
            "grid_auto_rows": null,
            "grid_column": null,
            "grid_gap": null,
            "grid_row": null,
            "grid_template_areas": null,
            "grid_template_columns": null,
            "grid_template_rows": null,
            "height": null,
            "justify_content": null,
            "justify_items": null,
            "left": null,
            "margin": null,
            "max_height": null,
            "max_width": null,
            "min_height": null,
            "min_width": null,
            "object_fit": null,
            "object_position": null,
            "order": null,
            "overflow": null,
            "overflow_x": null,
            "overflow_y": null,
            "padding": null,
            "right": null,
            "top": null,
            "visibility": null,
            "width": null
          }
        },
        "375e8809b4dd4838abe98a05166a92d0": {
          "model_module": "@jupyter-widgets/controls",
          "model_name": "DescriptionStyleModel",
          "model_module_version": "1.5.0",
          "state": {
            "_model_module": "@jupyter-widgets/controls",
            "_model_module_version": "1.5.0",
            "_model_name": "DescriptionStyleModel",
            "_view_count": null,
            "_view_module": "@jupyter-widgets/base",
            "_view_module_version": "1.2.0",
            "_view_name": "StyleView",
            "description_width": ""
          }
        },
        "de4b12563e564c07ba5423f25f0f762e": {
          "model_module": "@jupyter-widgets/controls",
          "model_name": "HBoxModel",
          "model_module_version": "1.5.0",
          "state": {
            "_dom_classes": [],
            "_model_module": "@jupyter-widgets/controls",
            "_model_module_version": "1.5.0",
            "_model_name": "HBoxModel",
            "_view_count": null,
            "_view_module": "@jupyter-widgets/controls",
            "_view_module_version": "1.5.0",
            "_view_name": "HBoxView",
            "box_style": "",
            "children": [
              "IPY_MODEL_642e53a6fcb34c7e89cc820e3b46cea4",
              "IPY_MODEL_d68feff87f684ade8e040b8a35a037d6",
              "IPY_MODEL_4839143cdf1247f283432b3360e75f8a"
            ],
            "layout": "IPY_MODEL_19f195c34e5b48dda64e222740bdd1e2"
          }
        },
        "642e53a6fcb34c7e89cc820e3b46cea4": {
          "model_module": "@jupyter-widgets/controls",
          "model_name": "HTMLModel",
          "model_module_version": "1.5.0",
          "state": {
            "_dom_classes": [],
            "_model_module": "@jupyter-widgets/controls",
            "_model_module_version": "1.5.0",
            "_model_name": "HTMLModel",
            "_view_count": null,
            "_view_module": "@jupyter-widgets/controls",
            "_view_module_version": "1.5.0",
            "_view_name": "HTMLView",
            "description": "",
            "description_tooltip": null,
            "layout": "IPY_MODEL_682179659ba14956917be13186678f30",
            "placeholder": "​",
            "style": "IPY_MODEL_15c17812189a4e888bf452d8c1924712",
            "value": "tokenizer.model: 100%"
          }
        },
        "d68feff87f684ade8e040b8a35a037d6": {
          "model_module": "@jupyter-widgets/controls",
          "model_name": "FloatProgressModel",
          "model_module_version": "1.5.0",
          "state": {
            "_dom_classes": [],
            "_model_module": "@jupyter-widgets/controls",
            "_model_module_version": "1.5.0",
            "_model_name": "FloatProgressModel",
            "_view_count": null,
            "_view_module": "@jupyter-widgets/controls",
            "_view_module_version": "1.5.0",
            "_view_name": "ProgressView",
            "bar_style": "success",
            "description": "",
            "description_tooltip": null,
            "layout": "IPY_MODEL_083c71616edb439bad69349c66089beb",
            "max": 499723,
            "min": 0,
            "orientation": "horizontal",
            "style": "IPY_MODEL_1293f95eca0b44fcadcd8ef2201b6edd",
            "value": 499723
          }
        },
        "4839143cdf1247f283432b3360e75f8a": {
          "model_module": "@jupyter-widgets/controls",
          "model_name": "HTMLModel",
          "model_module_version": "1.5.0",
          "state": {
            "_dom_classes": [],
            "_model_module": "@jupyter-widgets/controls",
            "_model_module_version": "1.5.0",
            "_model_name": "HTMLModel",
            "_view_count": null,
            "_view_module": "@jupyter-widgets/controls",
            "_view_module_version": "1.5.0",
            "_view_name": "HTMLView",
            "description": "",
            "description_tooltip": null,
            "layout": "IPY_MODEL_cc1be4a53d5e4ecc9c98f94460f0f536",
            "placeholder": "​",
            "style": "IPY_MODEL_ebb28b8fb2e043189a83cc7dc9a53e89",
            "value": " 500k/500k [00:00&lt;00:00, 33.3MB/s]"
          }
        },
        "19f195c34e5b48dda64e222740bdd1e2": {
          "model_module": "@jupyter-widgets/base",
          "model_name": "LayoutModel",
          "model_module_version": "1.2.0",
          "state": {
            "_model_module": "@jupyter-widgets/base",
            "_model_module_version": "1.2.0",
            "_model_name": "LayoutModel",
            "_view_count": null,
            "_view_module": "@jupyter-widgets/base",
            "_view_module_version": "1.2.0",
            "_view_name": "LayoutView",
            "align_content": null,
            "align_items": null,
            "align_self": null,
            "border": null,
            "bottom": null,
            "display": null,
            "flex": null,
            "flex_flow": null,
            "grid_area": null,
            "grid_auto_columns": null,
            "grid_auto_flow": null,
            "grid_auto_rows": null,
            "grid_column": null,
            "grid_gap": null,
            "grid_row": null,
            "grid_template_areas": null,
            "grid_template_columns": null,
            "grid_template_rows": null,
            "height": null,
            "justify_content": null,
            "justify_items": null,
            "left": null,
            "margin": null,
            "max_height": null,
            "max_width": null,
            "min_height": null,
            "min_width": null,
            "object_fit": null,
            "object_position": null,
            "order": null,
            "overflow": null,
            "overflow_x": null,
            "overflow_y": null,
            "padding": null,
            "right": null,
            "top": null,
            "visibility": null,
            "width": null
          }
        },
        "682179659ba14956917be13186678f30": {
          "model_module": "@jupyter-widgets/base",
          "model_name": "LayoutModel",
          "model_module_version": "1.2.0",
          "state": {
            "_model_module": "@jupyter-widgets/base",
            "_model_module_version": "1.2.0",
            "_model_name": "LayoutModel",
            "_view_count": null,
            "_view_module": "@jupyter-widgets/base",
            "_view_module_version": "1.2.0",
            "_view_name": "LayoutView",
            "align_content": null,
            "align_items": null,
            "align_self": null,
            "border": null,
            "bottom": null,
            "display": null,
            "flex": null,
            "flex_flow": null,
            "grid_area": null,
            "grid_auto_columns": null,
            "grid_auto_flow": null,
            "grid_auto_rows": null,
            "grid_column": null,
            "grid_gap": null,
            "grid_row": null,
            "grid_template_areas": null,
            "grid_template_columns": null,
            "grid_template_rows": null,
            "height": null,
            "justify_content": null,
            "justify_items": null,
            "left": null,
            "margin": null,
            "max_height": null,
            "max_width": null,
            "min_height": null,
            "min_width": null,
            "object_fit": null,
            "object_position": null,
            "order": null,
            "overflow": null,
            "overflow_x": null,
            "overflow_y": null,
            "padding": null,
            "right": null,
            "top": null,
            "visibility": null,
            "width": null
          }
        },
        "15c17812189a4e888bf452d8c1924712": {
          "model_module": "@jupyter-widgets/controls",
          "model_name": "DescriptionStyleModel",
          "model_module_version": "1.5.0",
          "state": {
            "_model_module": "@jupyter-widgets/controls",
            "_model_module_version": "1.5.0",
            "_model_name": "DescriptionStyleModel",
            "_view_count": null,
            "_view_module": "@jupyter-widgets/base",
            "_view_module_version": "1.2.0",
            "_view_name": "StyleView",
            "description_width": ""
          }
        },
        "083c71616edb439bad69349c66089beb": {
          "model_module": "@jupyter-widgets/base",
          "model_name": "LayoutModel",
          "model_module_version": "1.2.0",
          "state": {
            "_model_module": "@jupyter-widgets/base",
            "_model_module_version": "1.2.0",
            "_model_name": "LayoutModel",
            "_view_count": null,
            "_view_module": "@jupyter-widgets/base",
            "_view_module_version": "1.2.0",
            "_view_name": "LayoutView",
            "align_content": null,
            "align_items": null,
            "align_self": null,
            "border": null,
            "bottom": null,
            "display": null,
            "flex": null,
            "flex_flow": null,
            "grid_area": null,
            "grid_auto_columns": null,
            "grid_auto_flow": null,
            "grid_auto_rows": null,
            "grid_column": null,
            "grid_gap": null,
            "grid_row": null,
            "grid_template_areas": null,
            "grid_template_columns": null,
            "grid_template_rows": null,
            "height": null,
            "justify_content": null,
            "justify_items": null,
            "left": null,
            "margin": null,
            "max_height": null,
            "max_width": null,
            "min_height": null,
            "min_width": null,
            "object_fit": null,
            "object_position": null,
            "order": null,
            "overflow": null,
            "overflow_x": null,
            "overflow_y": null,
            "padding": null,
            "right": null,
            "top": null,
            "visibility": null,
            "width": null
          }
        },
        "1293f95eca0b44fcadcd8ef2201b6edd": {
          "model_module": "@jupyter-widgets/controls",
          "model_name": "ProgressStyleModel",
          "model_module_version": "1.5.0",
          "state": {
            "_model_module": "@jupyter-widgets/controls",
            "_model_module_version": "1.5.0",
            "_model_name": "ProgressStyleModel",
            "_view_count": null,
            "_view_module": "@jupyter-widgets/base",
            "_view_module_version": "1.2.0",
            "_view_name": "StyleView",
            "bar_color": null,
            "description_width": ""
          }
        },
        "cc1be4a53d5e4ecc9c98f94460f0f536": {
          "model_module": "@jupyter-widgets/base",
          "model_name": "LayoutModel",
          "model_module_version": "1.2.0",
          "state": {
            "_model_module": "@jupyter-widgets/base",
            "_model_module_version": "1.2.0",
            "_model_name": "LayoutModel",
            "_view_count": null,
            "_view_module": "@jupyter-widgets/base",
            "_view_module_version": "1.2.0",
            "_view_name": "LayoutView",
            "align_content": null,
            "align_items": null,
            "align_self": null,
            "border": null,
            "bottom": null,
            "display": null,
            "flex": null,
            "flex_flow": null,
            "grid_area": null,
            "grid_auto_columns": null,
            "grid_auto_flow": null,
            "grid_auto_rows": null,
            "grid_column": null,
            "grid_gap": null,
            "grid_row": null,
            "grid_template_areas": null,
            "grid_template_columns": null,
            "grid_template_rows": null,
            "height": null,
            "justify_content": null,
            "justify_items": null,
            "left": null,
            "margin": null,
            "max_height": null,
            "max_width": null,
            "min_height": null,
            "min_width": null,
            "object_fit": null,
            "object_position": null,
            "order": null,
            "overflow": null,
            "overflow_x": null,
            "overflow_y": null,
            "padding": null,
            "right": null,
            "top": null,
            "visibility": null,
            "width": null
          }
        },
        "ebb28b8fb2e043189a83cc7dc9a53e89": {
          "model_module": "@jupyter-widgets/controls",
          "model_name": "DescriptionStyleModel",
          "model_module_version": "1.5.0",
          "state": {
            "_model_module": "@jupyter-widgets/controls",
            "_model_module_version": "1.5.0",
            "_model_name": "DescriptionStyleModel",
            "_view_count": null,
            "_view_module": "@jupyter-widgets/base",
            "_view_module_version": "1.2.0",
            "_view_name": "StyleView",
            "description_width": ""
          }
        },
        "7ac9d10c9f9f49ca87a24ed6e55c468b": {
          "model_module": "@jupyter-widgets/controls",
          "model_name": "HBoxModel",
          "model_module_version": "1.5.0",
          "state": {
            "_dom_classes": [],
            "_model_module": "@jupyter-widgets/controls",
            "_model_module_version": "1.5.0",
            "_model_name": "HBoxModel",
            "_view_count": null,
            "_view_module": "@jupyter-widgets/controls",
            "_view_module_version": "1.5.0",
            "_view_name": "HBoxView",
            "box_style": "",
            "children": [
              "IPY_MODEL_d2a887433b6f4571b48eafd658ef286f",
              "IPY_MODEL_d322ef8aef19433ea8e472ac6b945dc3",
              "IPY_MODEL_876c7f0447894cf6a1de1b4c04d0e850"
            ],
            "layout": "IPY_MODEL_1f81b017a1d34965b8040eeed796b13b"
          }
        },
        "d2a887433b6f4571b48eafd658ef286f": {
          "model_module": "@jupyter-widgets/controls",
          "model_name": "HTMLModel",
          "model_module_version": "1.5.0",
          "state": {
            "_dom_classes": [],
            "_model_module": "@jupyter-widgets/controls",
            "_model_module_version": "1.5.0",
            "_model_name": "HTMLModel",
            "_view_count": null,
            "_view_module": "@jupyter-widgets/controls",
            "_view_module_version": "1.5.0",
            "_view_name": "HTMLView",
            "description": "",
            "description_tooltip": null,
            "layout": "IPY_MODEL_f23b05ce8e7d4e5dac8cb5aa9027c85a",
            "placeholder": "​",
            "style": "IPY_MODEL_d146fe6677564790b9018cbe51f2d151",
            "value": "tokenizer.json: 100%"
          }
        },
        "d322ef8aef19433ea8e472ac6b945dc3": {
          "model_module": "@jupyter-widgets/controls",
          "model_name": "FloatProgressModel",
          "model_module_version": "1.5.0",
          "state": {
            "_dom_classes": [],
            "_model_module": "@jupyter-widgets/controls",
            "_model_module_version": "1.5.0",
            "_model_name": "FloatProgressModel",
            "_view_count": null,
            "_view_module": "@jupyter-widgets/controls",
            "_view_module_version": "1.5.0",
            "_view_name": "ProgressView",
            "bar_style": "success",
            "description": "",
            "description_tooltip": null,
            "layout": "IPY_MODEL_fd69b78cfb8b4a8597f792b96652502c",
            "max": 1842665,
            "min": 0,
            "orientation": "horizontal",
            "style": "IPY_MODEL_42a84396ea4348ab992e8a8eb8beb859",
            "value": 1842665
          }
        },
        "876c7f0447894cf6a1de1b4c04d0e850": {
          "model_module": "@jupyter-widgets/controls",
          "model_name": "HTMLModel",
          "model_module_version": "1.5.0",
          "state": {
            "_dom_classes": [],
            "_model_module": "@jupyter-widgets/controls",
            "_model_module_version": "1.5.0",
            "_model_name": "HTMLModel",
            "_view_count": null,
            "_view_module": "@jupyter-widgets/controls",
            "_view_module_version": "1.5.0",
            "_view_name": "HTMLView",
            "description": "",
            "description_tooltip": null,
            "layout": "IPY_MODEL_50965c2a6a954a1bb0d56e55c2e6fda5",
            "placeholder": "​",
            "style": "IPY_MODEL_5e9ad7bcd3714616ab933522b7c19b66",
            "value": " 1.84M/1.84M [00:00&lt;00:00, 5.54MB/s]"
          }
        },
        "1f81b017a1d34965b8040eeed796b13b": {
          "model_module": "@jupyter-widgets/base",
          "model_name": "LayoutModel",
          "model_module_version": "1.2.0",
          "state": {
            "_model_module": "@jupyter-widgets/base",
            "_model_module_version": "1.2.0",
            "_model_name": "LayoutModel",
            "_view_count": null,
            "_view_module": "@jupyter-widgets/base",
            "_view_module_version": "1.2.0",
            "_view_name": "LayoutView",
            "align_content": null,
            "align_items": null,
            "align_self": null,
            "border": null,
            "bottom": null,
            "display": null,
            "flex": null,
            "flex_flow": null,
            "grid_area": null,
            "grid_auto_columns": null,
            "grid_auto_flow": null,
            "grid_auto_rows": null,
            "grid_column": null,
            "grid_gap": null,
            "grid_row": null,
            "grid_template_areas": null,
            "grid_template_columns": null,
            "grid_template_rows": null,
            "height": null,
            "justify_content": null,
            "justify_items": null,
            "left": null,
            "margin": null,
            "max_height": null,
            "max_width": null,
            "min_height": null,
            "min_width": null,
            "object_fit": null,
            "object_position": null,
            "order": null,
            "overflow": null,
            "overflow_x": null,
            "overflow_y": null,
            "padding": null,
            "right": null,
            "top": null,
            "visibility": null,
            "width": null
          }
        },
        "f23b05ce8e7d4e5dac8cb5aa9027c85a": {
          "model_module": "@jupyter-widgets/base",
          "model_name": "LayoutModel",
          "model_module_version": "1.2.0",
          "state": {
            "_model_module": "@jupyter-widgets/base",
            "_model_module_version": "1.2.0",
            "_model_name": "LayoutModel",
            "_view_count": null,
            "_view_module": "@jupyter-widgets/base",
            "_view_module_version": "1.2.0",
            "_view_name": "LayoutView",
            "align_content": null,
            "align_items": null,
            "align_self": null,
            "border": null,
            "bottom": null,
            "display": null,
            "flex": null,
            "flex_flow": null,
            "grid_area": null,
            "grid_auto_columns": null,
            "grid_auto_flow": null,
            "grid_auto_rows": null,
            "grid_column": null,
            "grid_gap": null,
            "grid_row": null,
            "grid_template_areas": null,
            "grid_template_columns": null,
            "grid_template_rows": null,
            "height": null,
            "justify_content": null,
            "justify_items": null,
            "left": null,
            "margin": null,
            "max_height": null,
            "max_width": null,
            "min_height": null,
            "min_width": null,
            "object_fit": null,
            "object_position": null,
            "order": null,
            "overflow": null,
            "overflow_x": null,
            "overflow_y": null,
            "padding": null,
            "right": null,
            "top": null,
            "visibility": null,
            "width": null
          }
        },
        "d146fe6677564790b9018cbe51f2d151": {
          "model_module": "@jupyter-widgets/controls",
          "model_name": "DescriptionStyleModel",
          "model_module_version": "1.5.0",
          "state": {
            "_model_module": "@jupyter-widgets/controls",
            "_model_module_version": "1.5.0",
            "_model_name": "DescriptionStyleModel",
            "_view_count": null,
            "_view_module": "@jupyter-widgets/base",
            "_view_module_version": "1.2.0",
            "_view_name": "StyleView",
            "description_width": ""
          }
        },
        "fd69b78cfb8b4a8597f792b96652502c": {
          "model_module": "@jupyter-widgets/base",
          "model_name": "LayoutModel",
          "model_module_version": "1.2.0",
          "state": {
            "_model_module": "@jupyter-widgets/base",
            "_model_module_version": "1.2.0",
            "_model_name": "LayoutModel",
            "_view_count": null,
            "_view_module": "@jupyter-widgets/base",
            "_view_module_version": "1.2.0",
            "_view_name": "LayoutView",
            "align_content": null,
            "align_items": null,
            "align_self": null,
            "border": null,
            "bottom": null,
            "display": null,
            "flex": null,
            "flex_flow": null,
            "grid_area": null,
            "grid_auto_columns": null,
            "grid_auto_flow": null,
            "grid_auto_rows": null,
            "grid_column": null,
            "grid_gap": null,
            "grid_row": null,
            "grid_template_areas": null,
            "grid_template_columns": null,
            "grid_template_rows": null,
            "height": null,
            "justify_content": null,
            "justify_items": null,
            "left": null,
            "margin": null,
            "max_height": null,
            "max_width": null,
            "min_height": null,
            "min_width": null,
            "object_fit": null,
            "object_position": null,
            "order": null,
            "overflow": null,
            "overflow_x": null,
            "overflow_y": null,
            "padding": null,
            "right": null,
            "top": null,
            "visibility": null,
            "width": null
          }
        },
        "42a84396ea4348ab992e8a8eb8beb859": {
          "model_module": "@jupyter-widgets/controls",
          "model_name": "ProgressStyleModel",
          "model_module_version": "1.5.0",
          "state": {
            "_model_module": "@jupyter-widgets/controls",
            "_model_module_version": "1.5.0",
            "_model_name": "ProgressStyleModel",
            "_view_count": null,
            "_view_module": "@jupyter-widgets/base",
            "_view_module_version": "1.2.0",
            "_view_name": "StyleView",
            "bar_color": null,
            "description_width": ""
          }
        },
        "50965c2a6a954a1bb0d56e55c2e6fda5": {
          "model_module": "@jupyter-widgets/base",
          "model_name": "LayoutModel",
          "model_module_version": "1.2.0",
          "state": {
            "_model_module": "@jupyter-widgets/base",
            "_model_module_version": "1.2.0",
            "_model_name": "LayoutModel",
            "_view_count": null,
            "_view_module": "@jupyter-widgets/base",
            "_view_module_version": "1.2.0",
            "_view_name": "LayoutView",
            "align_content": null,
            "align_items": null,
            "align_self": null,
            "border": null,
            "bottom": null,
            "display": null,
            "flex": null,
            "flex_flow": null,
            "grid_area": null,
            "grid_auto_columns": null,
            "grid_auto_flow": null,
            "grid_auto_rows": null,
            "grid_column": null,
            "grid_gap": null,
            "grid_row": null,
            "grid_template_areas": null,
            "grid_template_columns": null,
            "grid_template_rows": null,
            "height": null,
            "justify_content": null,
            "justify_items": null,
            "left": null,
            "margin": null,
            "max_height": null,
            "max_width": null,
            "min_height": null,
            "min_width": null,
            "object_fit": null,
            "object_position": null,
            "order": null,
            "overflow": null,
            "overflow_x": null,
            "overflow_y": null,
            "padding": null,
            "right": null,
            "top": null,
            "visibility": null,
            "width": null
          }
        },
        "5e9ad7bcd3714616ab933522b7c19b66": {
          "model_module": "@jupyter-widgets/controls",
          "model_name": "DescriptionStyleModel",
          "model_module_version": "1.5.0",
          "state": {
            "_model_module": "@jupyter-widgets/controls",
            "_model_module_version": "1.5.0",
            "_model_name": "DescriptionStyleModel",
            "_view_count": null,
            "_view_module": "@jupyter-widgets/base",
            "_view_module_version": "1.2.0",
            "_view_name": "StyleView",
            "description_width": ""
          }
        },
        "e79c519290fc42ae96aba0017a20257f": {
          "model_module": "@jupyter-widgets/controls",
          "model_name": "HBoxModel",
          "model_module_version": "1.5.0",
          "state": {
            "_dom_classes": [],
            "_model_module": "@jupyter-widgets/controls",
            "_model_module_version": "1.5.0",
            "_model_name": "HBoxModel",
            "_view_count": null,
            "_view_module": "@jupyter-widgets/controls",
            "_view_module_version": "1.5.0",
            "_view_name": "HBoxView",
            "box_style": "",
            "children": [
              "IPY_MODEL_bb5dcb3b804340a6924ec11062df426a",
              "IPY_MODEL_32b50a9c80354426b34a6461b72dab9d",
              "IPY_MODEL_db9ace5e55ae43a3a395b09bba2a0a1b"
            ],
            "layout": "IPY_MODEL_64fae4edd86748ceb45025ac0de7a369"
          }
        },
        "bb5dcb3b804340a6924ec11062df426a": {
          "model_module": "@jupyter-widgets/controls",
          "model_name": "HTMLModel",
          "model_module_version": "1.5.0",
          "state": {
            "_dom_classes": [],
            "_model_module": "@jupyter-widgets/controls",
            "_model_module_version": "1.5.0",
            "_model_name": "HTMLModel",
            "_view_count": null,
            "_view_module": "@jupyter-widgets/controls",
            "_view_module_version": "1.5.0",
            "_view_name": "HTMLView",
            "description": "",
            "description_tooltip": null,
            "layout": "IPY_MODEL_7c96a2b5dab942239b926c71059c0b81",
            "placeholder": "​",
            "style": "IPY_MODEL_5392a55a1805446ca283b0dc27e150f5",
            "value": "special_tokens_map.json: 100%"
          }
        },
        "32b50a9c80354426b34a6461b72dab9d": {
          "model_module": "@jupyter-widgets/controls",
          "model_name": "FloatProgressModel",
          "model_module_version": "1.5.0",
          "state": {
            "_dom_classes": [],
            "_model_module": "@jupyter-widgets/controls",
            "_model_module_version": "1.5.0",
            "_model_name": "FloatProgressModel",
            "_view_count": null,
            "_view_module": "@jupyter-widgets/controls",
            "_view_module_version": "1.5.0",
            "_view_name": "ProgressView",
            "bar_style": "success",
            "description": "",
            "description_tooltip": null,
            "layout": "IPY_MODEL_c2bae0dea02c4485ba629dc4a0452fe2",
            "max": 411,
            "min": 0,
            "orientation": "horizontal",
            "style": "IPY_MODEL_075e726472d6422ebe479ebf84b91ff0",
            "value": 411
          }
        },
        "db9ace5e55ae43a3a395b09bba2a0a1b": {
          "model_module": "@jupyter-widgets/controls",
          "model_name": "HTMLModel",
          "model_module_version": "1.5.0",
          "state": {
            "_dom_classes": [],
            "_model_module": "@jupyter-widgets/controls",
            "_model_module_version": "1.5.0",
            "_model_name": "HTMLModel",
            "_view_count": null,
            "_view_module": "@jupyter-widgets/controls",
            "_view_module_version": "1.5.0",
            "_view_name": "HTMLView",
            "description": "",
            "description_tooltip": null,
            "layout": "IPY_MODEL_15e848b3b80d49279faaa9e4b51222c9",
            "placeholder": "​",
            "style": "IPY_MODEL_54d8d0c1981a4f728954f0c50825ea6b",
            "value": " 411/411 [00:00&lt;00:00, 37.4kB/s]"
          }
        },
        "64fae4edd86748ceb45025ac0de7a369": {
          "model_module": "@jupyter-widgets/base",
          "model_name": "LayoutModel",
          "model_module_version": "1.2.0",
          "state": {
            "_model_module": "@jupyter-widgets/base",
            "_model_module_version": "1.2.0",
            "_model_name": "LayoutModel",
            "_view_count": null,
            "_view_module": "@jupyter-widgets/base",
            "_view_module_version": "1.2.0",
            "_view_name": "LayoutView",
            "align_content": null,
            "align_items": null,
            "align_self": null,
            "border": null,
            "bottom": null,
            "display": null,
            "flex": null,
            "flex_flow": null,
            "grid_area": null,
            "grid_auto_columns": null,
            "grid_auto_flow": null,
            "grid_auto_rows": null,
            "grid_column": null,
            "grid_gap": null,
            "grid_row": null,
            "grid_template_areas": null,
            "grid_template_columns": null,
            "grid_template_rows": null,
            "height": null,
            "justify_content": null,
            "justify_items": null,
            "left": null,
            "margin": null,
            "max_height": null,
            "max_width": null,
            "min_height": null,
            "min_width": null,
            "object_fit": null,
            "object_position": null,
            "order": null,
            "overflow": null,
            "overflow_x": null,
            "overflow_y": null,
            "padding": null,
            "right": null,
            "top": null,
            "visibility": null,
            "width": null
          }
        },
        "7c96a2b5dab942239b926c71059c0b81": {
          "model_module": "@jupyter-widgets/base",
          "model_name": "LayoutModel",
          "model_module_version": "1.2.0",
          "state": {
            "_model_module": "@jupyter-widgets/base",
            "_model_module_version": "1.2.0",
            "_model_name": "LayoutModel",
            "_view_count": null,
            "_view_module": "@jupyter-widgets/base",
            "_view_module_version": "1.2.0",
            "_view_name": "LayoutView",
            "align_content": null,
            "align_items": null,
            "align_self": null,
            "border": null,
            "bottom": null,
            "display": null,
            "flex": null,
            "flex_flow": null,
            "grid_area": null,
            "grid_auto_columns": null,
            "grid_auto_flow": null,
            "grid_auto_rows": null,
            "grid_column": null,
            "grid_gap": null,
            "grid_row": null,
            "grid_template_areas": null,
            "grid_template_columns": null,
            "grid_template_rows": null,
            "height": null,
            "justify_content": null,
            "justify_items": null,
            "left": null,
            "margin": null,
            "max_height": null,
            "max_width": null,
            "min_height": null,
            "min_width": null,
            "object_fit": null,
            "object_position": null,
            "order": null,
            "overflow": null,
            "overflow_x": null,
            "overflow_y": null,
            "padding": null,
            "right": null,
            "top": null,
            "visibility": null,
            "width": null
          }
        },
        "5392a55a1805446ca283b0dc27e150f5": {
          "model_module": "@jupyter-widgets/controls",
          "model_name": "DescriptionStyleModel",
          "model_module_version": "1.5.0",
          "state": {
            "_model_module": "@jupyter-widgets/controls",
            "_model_module_version": "1.5.0",
            "_model_name": "DescriptionStyleModel",
            "_view_count": null,
            "_view_module": "@jupyter-widgets/base",
            "_view_module_version": "1.2.0",
            "_view_name": "StyleView",
            "description_width": ""
          }
        },
        "c2bae0dea02c4485ba629dc4a0452fe2": {
          "model_module": "@jupyter-widgets/base",
          "model_name": "LayoutModel",
          "model_module_version": "1.2.0",
          "state": {
            "_model_module": "@jupyter-widgets/base",
            "_model_module_version": "1.2.0",
            "_model_name": "LayoutModel",
            "_view_count": null,
            "_view_module": "@jupyter-widgets/base",
            "_view_module_version": "1.2.0",
            "_view_name": "LayoutView",
            "align_content": null,
            "align_items": null,
            "align_self": null,
            "border": null,
            "bottom": null,
            "display": null,
            "flex": null,
            "flex_flow": null,
            "grid_area": null,
            "grid_auto_columns": null,
            "grid_auto_flow": null,
            "grid_auto_rows": null,
            "grid_column": null,
            "grid_gap": null,
            "grid_row": null,
            "grid_template_areas": null,
            "grid_template_columns": null,
            "grid_template_rows": null,
            "height": null,
            "justify_content": null,
            "justify_items": null,
            "left": null,
            "margin": null,
            "max_height": null,
            "max_width": null,
            "min_height": null,
            "min_width": null,
            "object_fit": null,
            "object_position": null,
            "order": null,
            "overflow": null,
            "overflow_x": null,
            "overflow_y": null,
            "padding": null,
            "right": null,
            "top": null,
            "visibility": null,
            "width": null
          }
        },
        "075e726472d6422ebe479ebf84b91ff0": {
          "model_module": "@jupyter-widgets/controls",
          "model_name": "ProgressStyleModel",
          "model_module_version": "1.5.0",
          "state": {
            "_model_module": "@jupyter-widgets/controls",
            "_model_module_version": "1.5.0",
            "_model_name": "ProgressStyleModel",
            "_view_count": null,
            "_view_module": "@jupyter-widgets/base",
            "_view_module_version": "1.2.0",
            "_view_name": "StyleView",
            "bar_color": null,
            "description_width": ""
          }
        },
        "15e848b3b80d49279faaa9e4b51222c9": {
          "model_module": "@jupyter-widgets/base",
          "model_name": "LayoutModel",
          "model_module_version": "1.2.0",
          "state": {
            "_model_module": "@jupyter-widgets/base",
            "_model_module_version": "1.2.0",
            "_model_name": "LayoutModel",
            "_view_count": null,
            "_view_module": "@jupyter-widgets/base",
            "_view_module_version": "1.2.0",
            "_view_name": "LayoutView",
            "align_content": null,
            "align_items": null,
            "align_self": null,
            "border": null,
            "bottom": null,
            "display": null,
            "flex": null,
            "flex_flow": null,
            "grid_area": null,
            "grid_auto_columns": null,
            "grid_auto_flow": null,
            "grid_auto_rows": null,
            "grid_column": null,
            "grid_gap": null,
            "grid_row": null,
            "grid_template_areas": null,
            "grid_template_columns": null,
            "grid_template_rows": null,
            "height": null,
            "justify_content": null,
            "justify_items": null,
            "left": null,
            "margin": null,
            "max_height": null,
            "max_width": null,
            "min_height": null,
            "min_width": null,
            "object_fit": null,
            "object_position": null,
            "order": null,
            "overflow": null,
            "overflow_x": null,
            "overflow_y": null,
            "padding": null,
            "right": null,
            "top": null,
            "visibility": null,
            "width": null
          }
        },
        "54d8d0c1981a4f728954f0c50825ea6b": {
          "model_module": "@jupyter-widgets/controls",
          "model_name": "DescriptionStyleModel",
          "model_module_version": "1.5.0",
          "state": {
            "_model_module": "@jupyter-widgets/controls",
            "_model_module_version": "1.5.0",
            "_model_name": "DescriptionStyleModel",
            "_view_count": null,
            "_view_module": "@jupyter-widgets/base",
            "_view_module_version": "1.2.0",
            "_view_name": "StyleView",
            "description_width": ""
          }
        }
      }
    }
  },
  "nbformat": 4,
  "nbformat_minor": 0
}